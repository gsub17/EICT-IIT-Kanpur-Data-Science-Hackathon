{
 "cells": [
  {
   "cell_type": "code",
   "execution_count": 178,
   "metadata": {
    "id": "DcOortqaPvFR"
   },
   "outputs": [],
   "source": [
    "import numpy as np\n",
    "import pandas as pd\n",
    "import matplotlib.pyplot as plt\n",
    "\n",
    "import matplotlib.dates as mdates\n",
    "\n",
    "import time\n",
    "import datetime as dt\n",
    "from datetime import datetime\n",
    "\n",
    "from pylab import rcParams\n",
    "import seaborn as sns"
   ]
  },
  {
   "cell_type": "code",
   "execution_count": 179,
   "metadata": {
    "colab": {
     "base_uri": "https://localhost:8080/",
     "height": 565
    },
    "id": "9lZStTTPRb14",
    "outputId": "3aa6b047-2f66-4f9b-83ed-5e9fa9db9cd3"
   },
   "outputs": [
    {
     "data": {
      "text/html": [
       "\n",
       "  <div id=\"df-d0e0f46b-e158-4878-909e-df316c657857\">\n",
       "    <div class=\"colab-df-container\">\n",
       "      <div>\n",
       "<style scoped>\n",
       "    .dataframe tbody tr th:only-of-type {\n",
       "        vertical-align: middle;\n",
       "    }\n",
       "\n",
       "    .dataframe tbody tr th {\n",
       "        vertical-align: top;\n",
       "    }\n",
       "\n",
       "    .dataframe thead th {\n",
       "        text-align: right;\n",
       "    }\n",
       "</style>\n",
       "<table border=\"1\" class=\"dataframe\">\n",
       "  <thead>\n",
       "    <tr style=\"text-align: right;\">\n",
       "      <th></th>\n",
       "      <th>Formatted Date</th>\n",
       "      <th>Summary</th>\n",
       "      <th>Precip Type</th>\n",
       "      <th>Temperature (C)</th>\n",
       "      <th>Apparent Temperature (C)</th>\n",
       "      <th>Humidity</th>\n",
       "      <th>Wind Speed (km/h)</th>\n",
       "      <th>Wind Bearing (degrees)</th>\n",
       "      <th>Visibility (km)</th>\n",
       "      <th>Cloud Cover</th>\n",
       "      <th>Pressure (millibars)</th>\n",
       "      <th>Daily Summary</th>\n",
       "    </tr>\n",
       "  </thead>\n",
       "  <tbody>\n",
       "    <tr>\n",
       "      <th>0</th>\n",
       "      <td>2006-04-01 00:00:00.000 +0200</td>\n",
       "      <td>Partly Cloudy</td>\n",
       "      <td>rain</td>\n",
       "      <td>9.472222</td>\n",
       "      <td>7.388889</td>\n",
       "      <td>0.89</td>\n",
       "      <td>14.1197</td>\n",
       "      <td>251</td>\n",
       "      <td>15.8263</td>\n",
       "      <td>0</td>\n",
       "      <td>1015.13</td>\n",
       "      <td>Partly cloudy throughout the day.</td>\n",
       "    </tr>\n",
       "    <tr>\n",
       "      <th>1</th>\n",
       "      <td>2006-04-01 01:00:00.000 +0200</td>\n",
       "      <td>Partly Cloudy</td>\n",
       "      <td>rain</td>\n",
       "      <td>9.355556</td>\n",
       "      <td>7.227778</td>\n",
       "      <td>0.86</td>\n",
       "      <td>14.2646</td>\n",
       "      <td>259</td>\n",
       "      <td>15.8263</td>\n",
       "      <td>0</td>\n",
       "      <td>1015.63</td>\n",
       "      <td>Partly cloudy throughout the day.</td>\n",
       "    </tr>\n",
       "    <tr>\n",
       "      <th>2</th>\n",
       "      <td>2006-04-01 02:00:00.000 +0200</td>\n",
       "      <td>Mostly Cloudy</td>\n",
       "      <td>rain</td>\n",
       "      <td>9.377778</td>\n",
       "      <td>9.377778</td>\n",
       "      <td>0.89</td>\n",
       "      <td>3.9284</td>\n",
       "      <td>204</td>\n",
       "      <td>14.9569</td>\n",
       "      <td>0</td>\n",
       "      <td>1015.94</td>\n",
       "      <td>Partly cloudy throughout the day.</td>\n",
       "    </tr>\n",
       "    <tr>\n",
       "      <th>3</th>\n",
       "      <td>2006-04-01 03:00:00.000 +0200</td>\n",
       "      <td>Partly Cloudy</td>\n",
       "      <td>rain</td>\n",
       "      <td>8.288889</td>\n",
       "      <td>5.944444</td>\n",
       "      <td>0.83</td>\n",
       "      <td>14.1036</td>\n",
       "      <td>269</td>\n",
       "      <td>15.8263</td>\n",
       "      <td>0</td>\n",
       "      <td>1016.41</td>\n",
       "      <td>Partly cloudy throughout the day.</td>\n",
       "    </tr>\n",
       "    <tr>\n",
       "      <th>4</th>\n",
       "      <td>2006-04-01 04:00:00.000 +0200</td>\n",
       "      <td>Mostly Cloudy</td>\n",
       "      <td>rain</td>\n",
       "      <td>8.755556</td>\n",
       "      <td>6.977778</td>\n",
       "      <td>0.83</td>\n",
       "      <td>11.0446</td>\n",
       "      <td>259</td>\n",
       "      <td>15.8263</td>\n",
       "      <td>0</td>\n",
       "      <td>1016.51</td>\n",
       "      <td>Partly cloudy throughout the day.</td>\n",
       "    </tr>\n",
       "  </tbody>\n",
       "</table>\n",
       "</div>\n",
       "      <button class=\"colab-df-convert\" onclick=\"convertToInteractive('df-d0e0f46b-e158-4878-909e-df316c657857')\"\n",
       "              title=\"Convert this dataframe to an interactive table.\"\n",
       "              style=\"display:none;\">\n",
       "        \n",
       "  <svg xmlns=\"http://www.w3.org/2000/svg\" height=\"24px\"viewBox=\"0 0 24 24\"\n",
       "       width=\"24px\">\n",
       "    <path d=\"M0 0h24v24H0V0z\" fill=\"none\"/>\n",
       "    <path d=\"M18.56 5.44l.94 2.06.94-2.06 2.06-.94-2.06-.94-.94-2.06-.94 2.06-2.06.94zm-11 1L8.5 8.5l.94-2.06 2.06-.94-2.06-.94L8.5 2.5l-.94 2.06-2.06.94zm10 10l.94 2.06.94-2.06 2.06-.94-2.06-.94-.94-2.06-.94 2.06-2.06.94z\"/><path d=\"M17.41 7.96l-1.37-1.37c-.4-.4-.92-.59-1.43-.59-.52 0-1.04.2-1.43.59L10.3 9.45l-7.72 7.72c-.78.78-.78 2.05 0 2.83L4 21.41c.39.39.9.59 1.41.59.51 0 1.02-.2 1.41-.59l7.78-7.78 2.81-2.81c.8-.78.8-2.07 0-2.86zM5.41 20L4 18.59l7.72-7.72 1.47 1.35L5.41 20z\"/>\n",
       "  </svg>\n",
       "      </button>\n",
       "      \n",
       "  <style>\n",
       "    .colab-df-container {\n",
       "      display:flex;\n",
       "      flex-wrap:wrap;\n",
       "      gap: 12px;\n",
       "    }\n",
       "\n",
       "    .colab-df-convert {\n",
       "      background-color: #E8F0FE;\n",
       "      border: none;\n",
       "      border-radius: 50%;\n",
       "      cursor: pointer;\n",
       "      display: none;\n",
       "      fill: #1967D2;\n",
       "      height: 32px;\n",
       "      padding: 0 0 0 0;\n",
       "      width: 32px;\n",
       "    }\n",
       "\n",
       "    .colab-df-convert:hover {\n",
       "      background-color: #E2EBFA;\n",
       "      box-shadow: 0px 1px 2px rgba(60, 64, 67, 0.3), 0px 1px 3px 1px rgba(60, 64, 67, 0.15);\n",
       "      fill: #174EA6;\n",
       "    }\n",
       "\n",
       "    [theme=dark] .colab-df-convert {\n",
       "      background-color: #3B4455;\n",
       "      fill: #D2E3FC;\n",
       "    }\n",
       "\n",
       "    [theme=dark] .colab-df-convert:hover {\n",
       "      background-color: #434B5C;\n",
       "      box-shadow: 0px 1px 3px 1px rgba(0, 0, 0, 0.15);\n",
       "      filter: drop-shadow(0px 1px 2px rgba(0, 0, 0, 0.3));\n",
       "      fill: #FFFFFF;\n",
       "    }\n",
       "  </style>\n",
       "\n",
       "      <script>\n",
       "        const buttonEl =\n",
       "          document.querySelector('#df-d0e0f46b-e158-4878-909e-df316c657857 button.colab-df-convert');\n",
       "        buttonEl.style.display =\n",
       "          google.colab.kernel.accessAllowed ? 'block' : 'none';\n",
       "\n",
       "        async function convertToInteractive(key) {\n",
       "          const element = document.querySelector('#df-d0e0f46b-e158-4878-909e-df316c657857');\n",
       "          const dataTable =\n",
       "            await google.colab.kernel.invokeFunction('convertToInteractive',\n",
       "                                                     [key], {});\n",
       "          if (!dataTable) return;\n",
       "\n",
       "          const docLinkHtml = 'Like what you see? Visit the ' +\n",
       "            '<a target=\"_blank\" href=https://colab.research.google.com/notebooks/data_table.ipynb>data table notebook</a>'\n",
       "            + ' to learn more about interactive tables.';\n",
       "          element.innerHTML = '';\n",
       "          dataTable['output_type'] = 'display_data';\n",
       "          await google.colab.output.renderOutput(dataTable, element);\n",
       "          const docLink = document.createElement('div');\n",
       "          docLink.innerHTML = docLinkHtml;\n",
       "          element.appendChild(docLink);\n",
       "        }\n",
       "      </script>\n",
       "    </div>\n",
       "  </div>\n",
       "  "
      ],
      "text/plain": [
       "                  Formatted Date  ...                      Daily Summary\n",
       "0  2006-04-01 00:00:00.000 +0200  ...  Partly cloudy throughout the day.\n",
       "1  2006-04-01 01:00:00.000 +0200  ...  Partly cloudy throughout the day.\n",
       "2  2006-04-01 02:00:00.000 +0200  ...  Partly cloudy throughout the day.\n",
       "3  2006-04-01 03:00:00.000 +0200  ...  Partly cloudy throughout the day.\n",
       "4  2006-04-01 04:00:00.000 +0200  ...  Partly cloudy throughout the day.\n",
       "\n",
       "[5 rows x 12 columns]"
      ]
     },
     "execution_count": 179,
     "metadata": {},
     "output_type": "execute_result"
    }
   ],
   "source": [
    "data = pd.read_csv('train.csv')\n",
    "data.head()"
   ]
  },
  {
   "cell_type": "markdown",
   "metadata": {
    "id": "khlj2gJ0FlfQ"
   },
   "source": [
    "**EXPLORATORY DATA ANALYSIS**\n",
    "\n",
    "---\n",
    "\n"
   ]
  },
  {
   "cell_type": "code",
   "execution_count": 180,
   "metadata": {
    "colab": {
     "base_uri": "https://localhost:8080/"
    },
    "id": "guv7UUrTRf_3",
    "outputId": "e4bf1b69-ddde-4a06-b9a7-8866c37878de"
   },
   "outputs": [
    {
     "name": "stdout",
     "output_type": "stream",
     "text": [
      "<class 'pandas.core.frame.DataFrame'>\n",
      "RangeIndex: 94268 entries, 0 to 94267\n",
      "Data columns (total 12 columns):\n",
      " #   Column                    Non-Null Count  Dtype  \n",
      "---  ------                    --------------  -----  \n",
      " 0   Formatted Date            94268 non-null  object \n",
      " 1   Summary                   94268 non-null  object \n",
      " 2   Precip Type               94125 non-null  object \n",
      " 3   Temperature (C)           94268 non-null  float64\n",
      " 4   Apparent Temperature (C)  94268 non-null  float64\n",
      " 5   Humidity                  94268 non-null  float64\n",
      " 6   Wind Speed (km/h)         94268 non-null  float64\n",
      " 7   Wind Bearing (degrees)    94268 non-null  int64  \n",
      " 8   Visibility (km)           94268 non-null  float64\n",
      " 9   Cloud Cover               94268 non-null  int64  \n",
      " 10  Pressure (millibars)      94268 non-null  float64\n",
      " 11  Daily Summary             94268 non-null  object \n",
      "dtypes: float64(6), int64(2), object(4)\n",
      "memory usage: 8.6+ MB\n"
     ]
    }
   ],
   "source": [
    "data.info()"
   ]
  },
  {
   "cell_type": "code",
   "execution_count": 181,
   "metadata": {
    "colab": {
     "base_uri": "https://localhost:8080/"
    },
    "id": "UTCJ9dLbRk77",
    "outputId": "f476e957-8b25-4955-e7c4-2f633c95d3d3"
   },
   "outputs": [
    {
     "data": {
      "text/plain": [
       "Formatted Date                0\n",
       "Summary                       0\n",
       "Precip Type                 143\n",
       "Temperature (C)               0\n",
       "Apparent Temperature (C)      0\n",
       "Humidity                      0\n",
       "Wind Speed (km/h)             0\n",
       "Wind Bearing (degrees)        0\n",
       "Visibility (km)               0\n",
       "Cloud Cover                   0\n",
       "Pressure (millibars)          0\n",
       "Daily Summary                 0\n",
       "dtype: int64"
      ]
     },
     "execution_count": 181,
     "metadata": {},
     "output_type": "execute_result"
    }
   ],
   "source": [
    "data.isnull().sum()"
   ]
  },
  {
   "cell_type": "code",
   "execution_count": 182,
   "metadata": {
    "id": "yGXBY_lNSCzY"
   },
   "outputs": [],
   "source": [
    "data.fillna(method='ffill', inplace=True) "
   ]
  },
  {
   "cell_type": "code",
   "execution_count": 183,
   "metadata": {
    "colab": {
     "base_uri": "https://localhost:8080/"
    },
    "id": "YDkPygFHSRkf",
    "outputId": "74000740-5432-48b3-d894-9e7771db0a44"
   },
   "outputs": [
    {
     "data": {
      "text/plain": [
       "Formatted Date              0\n",
       "Summary                     0\n",
       "Precip Type                 0\n",
       "Temperature (C)             0\n",
       "Apparent Temperature (C)    0\n",
       "Humidity                    0\n",
       "Wind Speed (km/h)           0\n",
       "Wind Bearing (degrees)      0\n",
       "Visibility (km)             0\n",
       "Cloud Cover                 0\n",
       "Pressure (millibars)        0\n",
       "Daily Summary               0\n",
       "dtype: int64"
      ]
     },
     "execution_count": 183,
     "metadata": {},
     "output_type": "execute_result"
    }
   ],
   "source": [
    "data.isnull().sum()"
   ]
  },
  {
   "cell_type": "code",
   "execution_count": 184,
   "metadata": {
    "colab": {
     "base_uri": "https://localhost:8080/"
    },
    "id": "2D4D3HNthy72",
    "outputId": "cce61f41-1c07-494c-e43d-ae0ba7777857"
   },
   "outputs": [
    {
     "name": "stdout",
     "output_type": "stream",
     "text": [
      "Index(['Formatted Date', 'Summary', 'Precip Type', 'Daily Summary'], dtype='object')\n"
     ]
    }
   ],
   "source": [
    "#Categorical variables:\n",
    "categorical = data.select_dtypes(include = [\"object\"]).keys()\n",
    "print(categorical)"
   ]
  },
  {
   "cell_type": "code",
   "execution_count": 185,
   "metadata": {
    "colab": {
     "base_uri": "https://localhost:8080/"
    },
    "id": "E1iLMxioiEfN",
    "outputId": "da91935b-41f4-4902-fa2d-a4f04ae4f03c"
   },
   "outputs": [
    {
     "name": "stdout",
     "output_type": "stream",
     "text": [
      "Index(['Temperature (C)', 'Apparent Temperature (C)', 'Humidity',\n",
      "       'Wind Speed (km/h)', 'Wind Bearing (degrees)', 'Visibility (km)',\n",
      "       'Cloud Cover', 'Pressure (millibars)'],\n",
      "      dtype='object')\n"
     ]
    }
   ],
   "source": [
    "#Quantitative variables:\n",
    "quantitative = data.select_dtypes(include = [\"int64\",\"float64\"]).keys()\n",
    "print(quantitative)"
   ]
  },
  {
   "cell_type": "code",
   "execution_count": 186,
   "metadata": {
    "colab": {
     "base_uri": "https://localhost:8080/",
     "height": 565
    },
    "id": "6d5pQRNGSZQl",
    "outputId": "da451f56-d749-4958-8389-d15e87fde3bf"
   },
   "outputs": [
    {
     "data": {
      "text/html": [
       "\n",
       "  <div id=\"df-ffe1c6a4-502b-411f-a657-605c8c0827da\">\n",
       "    <div class=\"colab-df-container\">\n",
       "      <div>\n",
       "<style scoped>\n",
       "    .dataframe tbody tr th:only-of-type {\n",
       "        vertical-align: middle;\n",
       "    }\n",
       "\n",
       "    .dataframe tbody tr th {\n",
       "        vertical-align: top;\n",
       "    }\n",
       "\n",
       "    .dataframe thead th {\n",
       "        text-align: right;\n",
       "    }\n",
       "</style>\n",
       "<table border=\"1\" class=\"dataframe\">\n",
       "  <thead>\n",
       "    <tr style=\"text-align: right;\">\n",
       "      <th></th>\n",
       "      <th>Formatted Date</th>\n",
       "      <th>Summary</th>\n",
       "      <th>Precip Type</th>\n",
       "      <th>Temperature (C)</th>\n",
       "      <th>Apparent Temperature (C)</th>\n",
       "      <th>Humidity</th>\n",
       "      <th>Wind Speed (km/h)</th>\n",
       "      <th>Wind Bearing (degrees)</th>\n",
       "      <th>Visibility (km)</th>\n",
       "      <th>Cloud Cover</th>\n",
       "      <th>Pressure (millibars)</th>\n",
       "      <th>Daily Summary</th>\n",
       "      <th>year</th>\n",
       "      <th>month</th>\n",
       "      <th>day</th>\n",
       "      <th>hour</th>\n",
       "    </tr>\n",
       "  </thead>\n",
       "  <tbody>\n",
       "    <tr>\n",
       "      <th>0</th>\n",
       "      <td>2006-03-31 22:00:00+00:00</td>\n",
       "      <td>Partly Cloudy</td>\n",
       "      <td>rain</td>\n",
       "      <td>9.472222</td>\n",
       "      <td>7.388889</td>\n",
       "      <td>0.89</td>\n",
       "      <td>14.1197</td>\n",
       "      <td>251</td>\n",
       "      <td>15.8263</td>\n",
       "      <td>0</td>\n",
       "      <td>1015.13</td>\n",
       "      <td>Partly cloudy throughout the day.</td>\n",
       "      <td>2006</td>\n",
       "      <td>3</td>\n",
       "      <td>31</td>\n",
       "      <td>22</td>\n",
       "    </tr>\n",
       "    <tr>\n",
       "      <th>1</th>\n",
       "      <td>2006-03-31 23:00:00+00:00</td>\n",
       "      <td>Partly Cloudy</td>\n",
       "      <td>rain</td>\n",
       "      <td>9.355556</td>\n",
       "      <td>7.227778</td>\n",
       "      <td>0.86</td>\n",
       "      <td>14.2646</td>\n",
       "      <td>259</td>\n",
       "      <td>15.8263</td>\n",
       "      <td>0</td>\n",
       "      <td>1015.63</td>\n",
       "      <td>Partly cloudy throughout the day.</td>\n",
       "      <td>2006</td>\n",
       "      <td>3</td>\n",
       "      <td>31</td>\n",
       "      <td>23</td>\n",
       "    </tr>\n",
       "    <tr>\n",
       "      <th>2</th>\n",
       "      <td>2006-04-01 00:00:00+00:00</td>\n",
       "      <td>Mostly Cloudy</td>\n",
       "      <td>rain</td>\n",
       "      <td>9.377778</td>\n",
       "      <td>9.377778</td>\n",
       "      <td>0.89</td>\n",
       "      <td>3.9284</td>\n",
       "      <td>204</td>\n",
       "      <td>14.9569</td>\n",
       "      <td>0</td>\n",
       "      <td>1015.94</td>\n",
       "      <td>Partly cloudy throughout the day.</td>\n",
       "      <td>2006</td>\n",
       "      <td>4</td>\n",
       "      <td>1</td>\n",
       "      <td>0</td>\n",
       "    </tr>\n",
       "    <tr>\n",
       "      <th>3</th>\n",
       "      <td>2006-04-01 01:00:00+00:00</td>\n",
       "      <td>Partly Cloudy</td>\n",
       "      <td>rain</td>\n",
       "      <td>8.288889</td>\n",
       "      <td>5.944444</td>\n",
       "      <td>0.83</td>\n",
       "      <td>14.1036</td>\n",
       "      <td>269</td>\n",
       "      <td>15.8263</td>\n",
       "      <td>0</td>\n",
       "      <td>1016.41</td>\n",
       "      <td>Partly cloudy throughout the day.</td>\n",
       "      <td>2006</td>\n",
       "      <td>4</td>\n",
       "      <td>1</td>\n",
       "      <td>1</td>\n",
       "    </tr>\n",
       "    <tr>\n",
       "      <th>4</th>\n",
       "      <td>2006-04-01 02:00:00+00:00</td>\n",
       "      <td>Mostly Cloudy</td>\n",
       "      <td>rain</td>\n",
       "      <td>8.755556</td>\n",
       "      <td>6.977778</td>\n",
       "      <td>0.83</td>\n",
       "      <td>11.0446</td>\n",
       "      <td>259</td>\n",
       "      <td>15.8263</td>\n",
       "      <td>0</td>\n",
       "      <td>1016.51</td>\n",
       "      <td>Partly cloudy throughout the day.</td>\n",
       "      <td>2006</td>\n",
       "      <td>4</td>\n",
       "      <td>1</td>\n",
       "      <td>2</td>\n",
       "    </tr>\n",
       "  </tbody>\n",
       "</table>\n",
       "</div>\n",
       "      <button class=\"colab-df-convert\" onclick=\"convertToInteractive('df-ffe1c6a4-502b-411f-a657-605c8c0827da')\"\n",
       "              title=\"Convert this dataframe to an interactive table.\"\n",
       "              style=\"display:none;\">\n",
       "        \n",
       "  <svg xmlns=\"http://www.w3.org/2000/svg\" height=\"24px\"viewBox=\"0 0 24 24\"\n",
       "       width=\"24px\">\n",
       "    <path d=\"M0 0h24v24H0V0z\" fill=\"none\"/>\n",
       "    <path d=\"M18.56 5.44l.94 2.06.94-2.06 2.06-.94-2.06-.94-.94-2.06-.94 2.06-2.06.94zm-11 1L8.5 8.5l.94-2.06 2.06-.94-2.06-.94L8.5 2.5l-.94 2.06-2.06.94zm10 10l.94 2.06.94-2.06 2.06-.94-2.06-.94-.94-2.06-.94 2.06-2.06.94z\"/><path d=\"M17.41 7.96l-1.37-1.37c-.4-.4-.92-.59-1.43-.59-.52 0-1.04.2-1.43.59L10.3 9.45l-7.72 7.72c-.78.78-.78 2.05 0 2.83L4 21.41c.39.39.9.59 1.41.59.51 0 1.02-.2 1.41-.59l7.78-7.78 2.81-2.81c.8-.78.8-2.07 0-2.86zM5.41 20L4 18.59l7.72-7.72 1.47 1.35L5.41 20z\"/>\n",
       "  </svg>\n",
       "      </button>\n",
       "      \n",
       "  <style>\n",
       "    .colab-df-container {\n",
       "      display:flex;\n",
       "      flex-wrap:wrap;\n",
       "      gap: 12px;\n",
       "    }\n",
       "\n",
       "    .colab-df-convert {\n",
       "      background-color: #E8F0FE;\n",
       "      border: none;\n",
       "      border-radius: 50%;\n",
       "      cursor: pointer;\n",
       "      display: none;\n",
       "      fill: #1967D2;\n",
       "      height: 32px;\n",
       "      padding: 0 0 0 0;\n",
       "      width: 32px;\n",
       "    }\n",
       "\n",
       "    .colab-df-convert:hover {\n",
       "      background-color: #E2EBFA;\n",
       "      box-shadow: 0px 1px 2px rgba(60, 64, 67, 0.3), 0px 1px 3px 1px rgba(60, 64, 67, 0.15);\n",
       "      fill: #174EA6;\n",
       "    }\n",
       "\n",
       "    [theme=dark] .colab-df-convert {\n",
       "      background-color: #3B4455;\n",
       "      fill: #D2E3FC;\n",
       "    }\n",
       "\n",
       "    [theme=dark] .colab-df-convert:hover {\n",
       "      background-color: #434B5C;\n",
       "      box-shadow: 0px 1px 3px 1px rgba(0, 0, 0, 0.15);\n",
       "      filter: drop-shadow(0px 1px 2px rgba(0, 0, 0, 0.3));\n",
       "      fill: #FFFFFF;\n",
       "    }\n",
       "  </style>\n",
       "\n",
       "      <script>\n",
       "        const buttonEl =\n",
       "          document.querySelector('#df-ffe1c6a4-502b-411f-a657-605c8c0827da button.colab-df-convert');\n",
       "        buttonEl.style.display =\n",
       "          google.colab.kernel.accessAllowed ? 'block' : 'none';\n",
       "\n",
       "        async function convertToInteractive(key) {\n",
       "          const element = document.querySelector('#df-ffe1c6a4-502b-411f-a657-605c8c0827da');\n",
       "          const dataTable =\n",
       "            await google.colab.kernel.invokeFunction('convertToInteractive',\n",
       "                                                     [key], {});\n",
       "          if (!dataTable) return;\n",
       "\n",
       "          const docLinkHtml = 'Like what you see? Visit the ' +\n",
       "            '<a target=\"_blank\" href=https://colab.research.google.com/notebooks/data_table.ipynb>data table notebook</a>'\n",
       "            + ' to learn more about interactive tables.';\n",
       "          element.innerHTML = '';\n",
       "          dataTable['output_type'] = 'display_data';\n",
       "          await google.colab.output.renderOutput(dataTable, element);\n",
       "          const docLink = document.createElement('div');\n",
       "          docLink.innerHTML = docLinkHtml;\n",
       "          element.appendChild(docLink);\n",
       "        }\n",
       "      </script>\n",
       "    </div>\n",
       "  </div>\n",
       "  "
      ],
      "text/plain": [
       "             Formatted Date        Summary Precip Type  ...  month  day  hour\n",
       "0 2006-03-31 22:00:00+00:00  Partly Cloudy        rain  ...      3   31    22\n",
       "1 2006-03-31 23:00:00+00:00  Partly Cloudy        rain  ...      3   31    23\n",
       "2 2006-04-01 00:00:00+00:00  Mostly Cloudy        rain  ...      4    1     0\n",
       "3 2006-04-01 01:00:00+00:00  Partly Cloudy        rain  ...      4    1     1\n",
       "4 2006-04-01 02:00:00+00:00  Mostly Cloudy        rain  ...      4    1     2\n",
       "\n",
       "[5 rows x 16 columns]"
      ]
     },
     "execution_count": 186,
     "metadata": {},
     "output_type": "execute_result"
    }
   ],
   "source": [
    "#'Formatted Date' transformation:\n",
    "data['Formatted Date']=pd.to_datetime(data['Formatted Date'],utc=True)\n",
    "data['year'] = data['Formatted Date'].dt.year\n",
    "data['month'] = data['Formatted Date'].dt.month\n",
    "data['day'] = data['Formatted Date'].dt.day\n",
    "data['hour'] = data['Formatted Date'].dt.hour\n",
    "data.head()"
   ]
  },
  {
   "cell_type": "code",
   "execution_count": 187,
   "metadata": {
    "colab": {
     "base_uri": "https://localhost:8080/",
     "height": 673
    },
    "id": "Cn9htX7oiTCH",
    "outputId": "69d88bae-043e-427b-8d88-fc57819c060d"
   },
   "outputs": [
    {
     "data": {
      "text/plain": [
       "array([[<matplotlib.axes._subplots.AxesSubplot object at 0x7f7c13041f50>,\n",
       "        <matplotlib.axes._subplots.AxesSubplot object at 0x7f7c14e67b90>,\n",
       "        <matplotlib.axes._subplots.AxesSubplot object at 0x7f7c14e260d0>],\n",
       "       [<matplotlib.axes._subplots.AxesSubplot object at 0x7f7c14ddb5d0>,\n",
       "        <matplotlib.axes._subplots.AxesSubplot object at 0x7f7c14d92ad0>,\n",
       "        <matplotlib.axes._subplots.AxesSubplot object at 0x7f7c14dbdb10>],\n",
       "       [<matplotlib.axes._subplots.AxesSubplot object at 0x7f7c14d0a590>,\n",
       "        <matplotlib.axes._subplots.AxesSubplot object at 0x7f7c14d409d0>,\n",
       "        <matplotlib.axes._subplots.AxesSubplot object at 0x7f7c14d40a10>]],\n",
       "      dtype=object)"
      ]
     },
     "execution_count": 187,
     "metadata": {},
     "output_type": "execute_result"
    },
    {
     "data": {
      "image/png": "[encoded data removed]",
      "text/plain": [
       "<Figure size 576x576 with 9 Axes>"
      ]
     },
     "metadata": {
      "needs_background": "light"
     },
     "output_type": "display_data"
    }
   ],
   "source": [
    "rcParams['figure.figsize'] = 8, 8\n",
    "data[quantitative].hist()"
   ]
  },
  {
   "cell_type": "code",
   "execution_count": 188,
   "metadata": {
    "id": "SpZ-p6Dgiy-H"
   },
   "outputs": [],
   "source": [
    "data=data.drop('Cloud Cover',axis=1) ## Some observations are zero.It seems that they are missing values."
   ]
  },
  {
   "cell_type": "code",
   "execution_count": 189,
   "metadata": {
    "colab": {
     "base_uri": "https://localhost:8080/",
     "height": 228
    },
    "id": "rzMAup6Ii-ay",
    "outputId": "62585ca3-ae6b-4607-d2f1-58628ca349bb"
   },
   "outputs": [
    {
     "data": {
      "text/plain": [
       "<matplotlib.axes._subplots.AxesSubplot at 0x7f7c12e20450>"
      ]
     },
     "execution_count": 189,
     "metadata": {},
     "output_type": "execute_result"
    },
    {
     "data": {
      "image/png": "[encoded data removed]",
      "text/plain": [
       "<Figure size 360x216 with 1 Axes>"
      ]
     },
     "metadata": {
      "needs_background": "light"
     },
     "output_type": "display_data"
    }
   ],
   "source": [
    "pressure_median = data['Pressure (millibars)'].median()\n",
    "      \n",
    "def pressure(x):\n",
    "    if x==0:\n",
    "        return x + pressure_median\n",
    "    else:\n",
    "        return x\n",
    "        \n",
    "data[\"Pressure (millibars)\"] = data.apply(lambda row:pressure(row[\"Pressure (millibars)\"]) , axis = 1)\n",
    "\n",
    "rcParams['figure.figsize'] = 5, 3\n",
    "data['Pressure (millibars)'].hist()"
   ]
  },
  {
   "cell_type": "markdown",
   "metadata": {
    "id": "g1NPrloCjUSv"
   },
   "source": [
    " **Feature engineering**\n",
    "\n",
    "---\n",
    "\n"
   ]
  },
  {
   "cell_type": "code",
   "execution_count": 190,
   "metadata": {
    "colab": {
     "base_uri": "https://localhost:8080/",
     "height": 331
    },
    "id": "PK0ALLrcjeE-",
    "outputId": "10158eb7-fdda-48bb-9170-fa50a6082440"
   },
   "outputs": [
    {
     "data": {
      "text/plain": [
       "<matplotlib.axes._subplots.AxesSubplot at 0x7f7c12e0ae10>"
      ]
     },
     "execution_count": 190,
     "metadata": {},
     "output_type": "execute_result"
    },
    {
     "data": {
      "image/png": "[encoded data removed]",
      "text/plain": [
       "<Figure size 576x360 with 1 Axes>"
      ]
     },
     "metadata": {
      "needs_background": "light"
     },
     "output_type": "display_data"
    }
   ],
   "source": [
    "rcParams['figure.figsize'] = 8, 5\n",
    "sns.countplot(y=data['Summary'])"
   ]
  },
  {
   "cell_type": "code",
   "execution_count": 191,
   "metadata": {
    "colab": {
     "base_uri": "https://localhost:8080/"
    },
    "id": "BJS0rOEwjnWd",
    "outputId": "7c2fb022-6933-42d0-c55a-9e6e7da2dcc5"
   },
   "outputs": [
    {
     "data": {
      "text/plain": [
       "26"
      ]
     },
     "execution_count": 191,
     "metadata": {},
     "output_type": "execute_result"
    }
   ],
   "source": [
    "len(data['Summary'].unique()) #How many different 'Summary' categories are there?"
   ]
  },
  {
   "cell_type": "markdown",
   "metadata": {
    "id": "2etc6imxj0EX"
   },
   "source": [
    "There are 26 'Summary' categories which makes it a bit confusing. Let's see which are the most common."
   ]
  },
  {
   "cell_type": "code",
   "execution_count": 192,
   "metadata": {
    "colab": {
     "base_uri": "https://localhost:8080/",
     "height": 896
    },
    "id": "8Gnbka31junZ",
    "outputId": "e9dfd2d4-9cbe-4340-a613-9b633a873521"
   },
   "outputs": [
    {
     "data": {
      "text/html": [
       "\n",
       "  <div id=\"df-be8200ba-6499-4203-a4fa-e260ed32f1cf\">\n",
       "    <div class=\"colab-df-container\">\n",
       "      <div>\n",
       "<style scoped>\n",
       "    .dataframe tbody tr th:only-of-type {\n",
       "        vertical-align: middle;\n",
       "    }\n",
       "\n",
       "    .dataframe tbody tr th {\n",
       "        vertical-align: top;\n",
       "    }\n",
       "\n",
       "    .dataframe thead th {\n",
       "        text-align: right;\n",
       "    }\n",
       "</style>\n",
       "<table border=\"1\" class=\"dataframe\">\n",
       "  <thead>\n",
       "    <tr style=\"text-align: right;\">\n",
       "      <th>col_0</th>\n",
       "      <th>count</th>\n",
       "    </tr>\n",
       "    <tr>\n",
       "      <th>Summary</th>\n",
       "      <th></th>\n",
       "    </tr>\n",
       "  </thead>\n",
       "  <tbody>\n",
       "    <tr>\n",
       "      <th>Partly Cloudy</th>\n",
       "      <td>0.329009</td>\n",
       "    </tr>\n",
       "    <tr>\n",
       "      <th>Mostly Cloudy</th>\n",
       "      <td>0.289038</td>\n",
       "    </tr>\n",
       "    <tr>\n",
       "      <th>Overcast</th>\n",
       "      <td>0.173877</td>\n",
       "    </tr>\n",
       "    <tr>\n",
       "      <th>Clear</th>\n",
       "      <td>0.112806</td>\n",
       "    </tr>\n",
       "    <tr>\n",
       "      <th>Foggy</th>\n",
       "      <td>0.075137</td>\n",
       "    </tr>\n",
       "    <tr>\n",
       "      <th>Breezy and Overcast</th>\n",
       "      <td>0.005580</td>\n",
       "    </tr>\n",
       "    <tr>\n",
       "      <th>Breezy and Mostly Cloudy</th>\n",
       "      <td>0.005463</td>\n",
       "    </tr>\n",
       "    <tr>\n",
       "      <th>Breezy and Partly Cloudy</th>\n",
       "      <td>0.004095</td>\n",
       "    </tr>\n",
       "    <tr>\n",
       "      <th>Dry and Partly Cloudy</th>\n",
       "      <td>0.000912</td>\n",
       "    </tr>\n",
       "    <tr>\n",
       "      <th>Windy and Partly Cloudy</th>\n",
       "      <td>0.000711</td>\n",
       "    </tr>\n",
       "    <tr>\n",
       "      <th>Breezy</th>\n",
       "      <td>0.000573</td>\n",
       "    </tr>\n",
       "    <tr>\n",
       "      <th>Windy and Overcast</th>\n",
       "      <td>0.000477</td>\n",
       "    </tr>\n",
       "    <tr>\n",
       "      <th>Humid and Mostly Cloudy</th>\n",
       "      <td>0.000424</td>\n",
       "    </tr>\n",
       "    <tr>\n",
       "      <th>Breezy and Foggy</th>\n",
       "      <td>0.000371</td>\n",
       "    </tr>\n",
       "    <tr>\n",
       "      <th>Windy and Mostly Cloudy</th>\n",
       "      <td>0.000371</td>\n",
       "    </tr>\n",
       "    <tr>\n",
       "      <th>Dry</th>\n",
       "      <td>0.000361</td>\n",
       "    </tr>\n",
       "    <tr>\n",
       "      <th>Humid and Partly Cloudy</th>\n",
       "      <td>0.000180</td>\n",
       "    </tr>\n",
       "    <tr>\n",
       "      <th>Light Rain</th>\n",
       "      <td>0.000180</td>\n",
       "    </tr>\n",
       "    <tr>\n",
       "      <th>Dry and Mostly Cloudy</th>\n",
       "      <td>0.000149</td>\n",
       "    </tr>\n",
       "    <tr>\n",
       "      <th>Windy</th>\n",
       "      <td>0.000085</td>\n",
       "    </tr>\n",
       "    <tr>\n",
       "      <th>Humid and Overcast</th>\n",
       "      <td>0.000074</td>\n",
       "    </tr>\n",
       "    <tr>\n",
       "      <th>Drizzle</th>\n",
       "      <td>0.000053</td>\n",
       "    </tr>\n",
       "    <tr>\n",
       "      <th>Windy and Foggy</th>\n",
       "      <td>0.000042</td>\n",
       "    </tr>\n",
       "    <tr>\n",
       "      <th>Breezy and Dry</th>\n",
       "      <td>0.000011</td>\n",
       "    </tr>\n",
       "    <tr>\n",
       "      <th>Dangerously Windy and Partly Cloudy</th>\n",
       "      <td>0.000011</td>\n",
       "    </tr>\n",
       "    <tr>\n",
       "      <th>Windy and Dry</th>\n",
       "      <td>0.000011</td>\n",
       "    </tr>\n",
       "  </tbody>\n",
       "</table>\n",
       "</div>\n",
       "      <button class=\"colab-df-convert\" onclick=\"convertToInteractive('df-be8200ba-6499-4203-a4fa-e260ed32f1cf')\"\n",
       "              title=\"Convert this dataframe to an interactive table.\"\n",
       "              style=\"display:none;\">\n",
       "        \n",
       "  <svg xmlns=\"http://www.w3.org/2000/svg\" height=\"24px\"viewBox=\"0 0 24 24\"\n",
       "       width=\"24px\">\n",
       "    <path d=\"M0 0h24v24H0V0z\" fill=\"none\"/>\n",
       "    <path d=\"M18.56 5.44l.94 2.06.94-2.06 2.06-.94-2.06-.94-.94-2.06-.94 2.06-2.06.94zm-11 1L8.5 8.5l.94-2.06 2.06-.94-2.06-.94L8.5 2.5l-.94 2.06-2.06.94zm10 10l.94 2.06.94-2.06 2.06-.94-2.06-.94-.94-2.06-.94 2.06-2.06.94z\"/><path d=\"M17.41 7.96l-1.37-1.37c-.4-.4-.92-.59-1.43-.59-.52 0-1.04.2-1.43.59L10.3 9.45l-7.72 7.72c-.78.78-.78 2.05 0 2.83L4 21.41c.39.39.9.59 1.41.59.51 0 1.02-.2 1.41-.59l7.78-7.78 2.81-2.81c.8-.78.8-2.07 0-2.86zM5.41 20L4 18.59l7.72-7.72 1.47 1.35L5.41 20z\"/>\n",
       "  </svg>\n",
       "      </button>\n",
       "      \n",
       "  <style>\n",
       "    .colab-df-container {\n",
       "      display:flex;\n",
       "      flex-wrap:wrap;\n",
       "      gap: 12px;\n",
       "    }\n",
       "\n",
       "    .colab-df-convert {\n",
       "      background-color: #E8F0FE;\n",
       "      border: none;\n",
       "      border-radius: 50%;\n",
       "      cursor: pointer;\n",
       "      display: none;\n",
       "      fill: #1967D2;\n",
       "      height: 32px;\n",
       "      padding: 0 0 0 0;\n",
       "      width: 32px;\n",
       "    }\n",
       "\n",
       "    .colab-df-convert:hover {\n",
       "      background-color: #E2EBFA;\n",
       "      box-shadow: 0px 1px 2px rgba(60, 64, 67, 0.3), 0px 1px 3px 1px rgba(60, 64, 67, 0.15);\n",
       "      fill: #174EA6;\n",
       "    }\n",
       "\n",
       "    [theme=dark] .colab-df-convert {\n",
       "      background-color: #3B4455;\n",
       "      fill: #D2E3FC;\n",
       "    }\n",
       "\n",
       "    [theme=dark] .colab-df-convert:hover {\n",
       "      background-color: #434B5C;\n",
       "      box-shadow: 0px 1px 3px 1px rgba(0, 0, 0, 0.15);\n",
       "      filter: drop-shadow(0px 1px 2px rgba(0, 0, 0, 0.3));\n",
       "      fill: #FFFFFF;\n",
       "    }\n",
       "  </style>\n",
       "\n",
       "      <script>\n",
       "        const buttonEl =\n",
       "          document.querySelector('#df-be8200ba-6499-4203-a4fa-e260ed32f1cf button.colab-df-convert');\n",
       "        buttonEl.style.display =\n",
       "          google.colab.kernel.accessAllowed ? 'block' : 'none';\n",
       "\n",
       "        async function convertToInteractive(key) {\n",
       "          const element = document.querySelector('#df-be8200ba-6499-4203-a4fa-e260ed32f1cf');\n",
       "          const dataTable =\n",
       "            await google.colab.kernel.invokeFunction('convertToInteractive',\n",
       "                                                     [key], {});\n",
       "          if (!dataTable) return;\n",
       "\n",
       "          const docLinkHtml = 'Like what you see? Visit the ' +\n",
       "            '<a target=\"_blank\" href=https://colab.research.google.com/notebooks/data_table.ipynb>data table notebook</a>'\n",
       "            + ' to learn more about interactive tables.';\n",
       "          element.innerHTML = '';\n",
       "          dataTable['output_type'] = 'display_data';\n",
       "          await google.colab.output.renderOutput(dataTable, element);\n",
       "          const docLink = document.createElement('div');\n",
       "          docLink.innerHTML = docLinkHtml;\n",
       "          element.appendChild(docLink);\n",
       "        }\n",
       "      </script>\n",
       "    </div>\n",
       "  </div>\n",
       "  "
      ],
      "text/plain": [
       "col_0                                   count\n",
       "Summary                                      \n",
       "Partly Cloudy                        0.329009\n",
       "Mostly Cloudy                        0.289038\n",
       "Overcast                             0.173877\n",
       "Clear                                0.112806\n",
       "Foggy                                0.075137\n",
       "Breezy and Overcast                  0.005580\n",
       "Breezy and Mostly Cloudy             0.005463\n",
       "Breezy and Partly Cloudy             0.004095\n",
       "Dry and Partly Cloudy                0.000912\n",
       "Windy and Partly Cloudy              0.000711\n",
       "Breezy                               0.000573\n",
       "Windy and Overcast                   0.000477\n",
       "Humid and Mostly Cloudy              0.000424\n",
       "Breezy and Foggy                     0.000371\n",
       "Windy and Mostly Cloudy              0.000371\n",
       "Dry                                  0.000361\n",
       "Humid and Partly Cloudy              0.000180\n",
       "Light Rain                           0.000180\n",
       "Dry and Mostly Cloudy                0.000149\n",
       "Windy                                0.000085\n",
       "Humid and Overcast                   0.000074\n",
       "Drizzle                              0.000053\n",
       "Windy and Foggy                      0.000042\n",
       "Breezy and Dry                       0.000011\n",
       "Dangerously Windy and Partly Cloudy  0.000011\n",
       "Windy and Dry                        0.000011"
      ]
     },
     "execution_count": 192,
     "metadata": {},
     "output_type": "execute_result"
    }
   ],
   "source": [
    "summary_freq=pd.crosstab(index=data['Summary'],columns=\"count\")  \n",
    "summary_freq_rel = summary_freq/summary_freq.sum() \n",
    "summary_freq_rel.sort_values('count', ascending=False) #relative frequencies"
   ]
  },
  {
   "cell_type": "code",
   "execution_count": 193,
   "metadata": {
    "id": "tByz13dKkE0D"
   },
   "outputs": [],
   "source": [
    "#new categorical variable:\n",
    "\n",
    "def cloud_categorizer(row):\n",
    "   row = str(row).lower()\n",
    "   category = \"\"\n",
    "   if \"foggy\" in row:\n",
    "       category = 5\n",
    "   elif \"overcast\" in row:\n",
    "       category = 4\n",
    "   elif \"mostly cloudy\" in row:\n",
    "       category = 3\n",
    "   elif \"partly cloudy\" in row:\n",
    "       category = 2\n",
    "   elif \"clear\" in row:\n",
    "       category = 1\n",
    "   else:\n",
    "       category = 0\n",
    "   return category \n",
    "\n",
    "data[\"cloud (summary)\"] = data.apply (lambda row:cloud_categorizer(row[\"Summary\"]) , axis = 1)"
   ]
  },
  {
   "cell_type": "code",
   "execution_count": 194,
   "metadata": {
    "colab": {
     "base_uri": "https://localhost:8080/",
     "height": 406
    },
    "id": "Jfrd4LsjntQ3",
    "outputId": "8b7d5bf7-3092-4c9d-af44-a3c24f339de8"
   },
   "outputs": [
    {
     "name": "stderr",
     "output_type": "stream",
     "text": [
      "/usr/local/lib/python3.7/dist-packages/seaborn/_decorators.py:43: FutureWarning: Pass the following variable as a keyword arg: x. From version 0.12, the only valid positional argument will be `data`, and passing other arguments without an explicit keyword will result in an error or misinterpretation.\n",
      "  FutureWarning\n"
     ]
    },
    {
     "data": {
      "text/plain": [
       "<matplotlib.axes._subplots.AxesSubplot at 0x7f7c1308d150>"
      ]
     },
     "execution_count": 194,
     "metadata": {},
     "output_type": "execute_result"
    },
    {
     "data": {
      "image/png": "[encoded data removed]",
      "text/plain": [
       "<Figure size 360x360 with 1 Axes>"
      ]
     },
     "metadata": {
      "needs_background": "light"
     },
     "output_type": "display_data"
    }
   ],
   "source": [
    "rcParams['figure.figsize'] = 5, 5\n",
    "sns.countplot(data['cloud (summary)']) "
   ]
  },
  {
   "cell_type": "markdown",
   "metadata": {
    "id": "NudatPLJoRaQ"
   },
   "source": [
    "As can be observed, there are a few observations with no information about \"clouds\" or foggy in variable 'Summary'.\n",
    "How can we assign a value to them?\n",
    "I decided to look at variable 'Visibility (km)', which obviously is correlated to \"clouds\" and foggy."
   ]
  },
  {
   "cell_type": "code",
   "execution_count": 195,
   "metadata": {
    "colab": {
     "base_uri": "https://localhost:8080/",
     "height": 351
    },
    "id": "gdiekEgEoBP9",
    "outputId": "5726887a-3d27-4845-abba-acdb71bee287"
   },
   "outputs": [
    {
     "data": {
      "text/plain": [
       "<matplotlib.axes._subplots.AxesSubplot at 0x7f7c1574f7d0>"
      ]
     },
     "execution_count": 195,
     "metadata": {},
     "output_type": "execute_result"
    },
    {
     "data": {
      "image/png": "[encoded data removed]",
      "text/plain": [
       "<Figure size 360x360 with 1 Axes>"
      ]
     },
     "metadata": {
      "needs_background": "light"
     },
     "output_type": "display_data"
    }
   ],
   "source": [
    "sns.boxplot(x=data['cloud (summary)'], y=data['Visibility (km)']) "
   ]
  },
  {
   "cell_type": "markdown",
   "metadata": {
    "id": "bIijVEzmoeV-"
   },
   "source": [
    "It seems that the boxplot of the null values is very similar to the one of \"overcast\"so let's assume that obsevations with no information about \"clouds\" and foggy fall in the \"overcast\" category."
   ]
  },
  {
   "cell_type": "code",
   "execution_count": 196,
   "metadata": {
    "id": "-G5Dj9BboW_f"
   },
   "outputs": [],
   "source": [
    "def cloud_categorizer(row):\n",
    "    row = str(row).lower()\n",
    "    category = \"\"\n",
    "    if \"foggy\" in row:\n",
    "        category = 5\n",
    "    elif \"overcast\" in row:\n",
    "        category = 4\n",
    "    elif \"mostly cloudy\" in row:\n",
    "        category = 3\n",
    "    elif \"partly cloudy\" in row:\n",
    "        category = 2\n",
    "    elif \"clear\" in row:\n",
    "        category = 1\n",
    "    else:\n",
    "        category = 4 \n",
    "    return category \n",
    "\n",
    "data[\"cloud (summary)\"] = data.apply (lambda row:cloud_categorizer(row[\"Summary\"]) , axis = 1)"
   ]
  },
  {
   "cell_type": "code",
   "execution_count": 197,
   "metadata": {
    "colab": {
     "base_uri": "https://localhost:8080/",
     "height": 476
    },
    "id": "N0S3XpZhouWn",
    "outputId": "299aaa6f-d6b5-4157-d690-2324987f5ccf"
   },
   "outputs": [
    {
     "name": "stderr",
     "output_type": "stream",
     "text": [
      "/usr/local/lib/python3.7/dist-packages/seaborn/_decorators.py:43: FutureWarning: Pass the following variable as a keyword arg: x. From version 0.12, the only valid positional argument will be `data`, and passing other arguments without an explicit keyword will result in an error or misinterpretation.\n",
      "  FutureWarning\n"
     ]
    },
    {
     "data": {
      "text/plain": [
       "[Text(0, 0, '1=Clear'),\n",
       " Text(0, 0, '2=Partly Cloudy'),\n",
       " Text(0, 0, '3=Mostly Cloudy'),\n",
       " Text(0, 0, '4=Overcast'),\n",
       " Text(0, 0, '5=Foggy')]"
      ]
     },
     "execution_count": 197,
     "metadata": {},
     "output_type": "execute_result"
    },
    {
     "data": {
      "image/png": "[encoded data removed]",
      "text/plain": [
       "<Figure size 360x360 with 1 Axes>"
      ]
     },
     "metadata": {
      "needs_background": "light"
     },
     "output_type": "display_data"
    }
   ],
   "source": [
    "ax=sns.countplot(data['cloud (summary)'])\n",
    "ax.set_xticklabels(('1=Clear', '2=Partly Cloudy', '3=Mostly Cloudy', '4=Overcast', '5=Foggy'))"
   ]
  },
  {
   "cell_type": "code",
   "execution_count": 198,
   "metadata": {
    "colab": {
     "base_uri": "https://localhost:8080/"
    },
    "id": "4MkfSYtLo3KS",
    "outputId": "8825f22f-1eee-476b-a8e8-37bad8dab0bc"
   },
   "outputs": [
    {
     "data": {
      "text/plain": [
       "207"
      ]
     },
     "execution_count": 198,
     "metadata": {},
     "output_type": "execute_result"
    }
   ],
   "source": [
    "len(data['Daily Summary'].unique()) #number of categories"
   ]
  },
  {
   "cell_type": "code",
   "execution_count": 199,
   "metadata": {
    "colab": {
     "base_uri": "https://localhost:8080/",
     "height": 708
    },
    "id": "PW30DHNDpEas",
    "outputId": "ff01d30d-aec1-4758-81ab-cbb58e977509"
   },
   "outputs": [
    {
     "data": {
      "text/html": [
       "\n",
       "  <div id=\"df-ffd7238d-49c1-4cf5-88b1-b3ffad3e199e\">\n",
       "    <div class=\"colab-df-container\">\n",
       "      <div>\n",
       "<style scoped>\n",
       "    .dataframe tbody tr th:only-of-type {\n",
       "        vertical-align: middle;\n",
       "    }\n",
       "\n",
       "    .dataframe tbody tr th {\n",
       "        vertical-align: top;\n",
       "    }\n",
       "\n",
       "    .dataframe thead th {\n",
       "        text-align: right;\n",
       "    }\n",
       "</style>\n",
       "<table border=\"1\" class=\"dataframe\">\n",
       "  <thead>\n",
       "    <tr style=\"text-align: right;\">\n",
       "      <th>col_0</th>\n",
       "      <th>count</th>\n",
       "    </tr>\n",
       "    <tr>\n",
       "      <th>Daily Summary</th>\n",
       "      <th></th>\n",
       "    </tr>\n",
       "  </thead>\n",
       "  <tbody>\n",
       "    <tr>\n",
       "      <th>Mostly cloudy throughout the day.</th>\n",
       "      <td>0.206698</td>\n",
       "    </tr>\n",
       "    <tr>\n",
       "      <th>Partly cloudy throughout the day.</th>\n",
       "      <td>0.101805</td>\n",
       "    </tr>\n",
       "    <tr>\n",
       "      <th>Partly cloudy until night.</th>\n",
       "      <td>0.064168</td>\n",
       "    </tr>\n",
       "    <tr>\n",
       "      <th>Partly cloudy starting in the morning.</th>\n",
       "      <td>0.053719</td>\n",
       "    </tr>\n",
       "    <tr>\n",
       "      <th>Foggy in the morning.</th>\n",
       "      <td>0.044055</td>\n",
       "    </tr>\n",
       "    <tr>\n",
       "      <th>Foggy starting overnight continuing until morning.</th>\n",
       "      <td>0.037425</td>\n",
       "    </tr>\n",
       "    <tr>\n",
       "      <th>Partly cloudy until evening.</th>\n",
       "      <td>0.034370</td>\n",
       "    </tr>\n",
       "    <tr>\n",
       "      <th>Mostly cloudy until night.</th>\n",
       "      <td>0.032577</td>\n",
       "    </tr>\n",
       "    <tr>\n",
       "      <th>Overcast throughout the day.</th>\n",
       "      <td>0.030551</td>\n",
       "    </tr>\n",
       "    <tr>\n",
       "      <th>Partly cloudy starting in the morning continuing until evening.</th>\n",
       "      <td>0.029512</td>\n",
       "    </tr>\n",
       "    <tr>\n",
       "      <th>Foggy until morning.</th>\n",
       "      <td>0.028037</td>\n",
       "    </tr>\n",
       "    <tr>\n",
       "      <th>Partly cloudy starting in the morning continuing until night.</th>\n",
       "      <td>0.022404</td>\n",
       "    </tr>\n",
       "    <tr>\n",
       "      <th>Mostly cloudy starting in the morning.</th>\n",
       "      <td>0.016294</td>\n",
       "    </tr>\n",
       "    <tr>\n",
       "      <th>Partly cloudy starting overnight.</th>\n",
       "      <td>0.015021</td>\n",
       "    </tr>\n",
       "    <tr>\n",
       "      <th>Foggy starting in the evening.</th>\n",
       "      <td>0.015021</td>\n",
       "    </tr>\n",
       "    <tr>\n",
       "      <th>Partly cloudy starting in the afternoon continuing until evening.</th>\n",
       "      <td>0.013737</td>\n",
       "    </tr>\n",
       "    <tr>\n",
       "      <th>Foggy overnight.</th>\n",
       "      <td>0.013249</td>\n",
       "    </tr>\n",
       "    <tr>\n",
       "      <th>Mostly cloudy starting overnight.</th>\n",
       "      <td>0.013239</td>\n",
       "    </tr>\n",
       "    <tr>\n",
       "      <th>Partly cloudy starting in the afternoon.</th>\n",
       "      <td>0.013239</td>\n",
       "    </tr>\n",
       "    <tr>\n",
       "      <th>Mostly cloudy until evening.</th>\n",
       "      <td>0.010948</td>\n",
       "    </tr>\n",
       "  </tbody>\n",
       "</table>\n",
       "</div>\n",
       "      <button class=\"colab-df-convert\" onclick=\"convertToInteractive('df-ffd7238d-49c1-4cf5-88b1-b3ffad3e199e')\"\n",
       "              title=\"Convert this dataframe to an interactive table.\"\n",
       "              style=\"display:none;\">\n",
       "        \n",
       "  <svg xmlns=\"http://www.w3.org/2000/svg\" height=\"24px\"viewBox=\"0 0 24 24\"\n",
       "       width=\"24px\">\n",
       "    <path d=\"M0 0h24v24H0V0z\" fill=\"none\"/>\n",
       "    <path d=\"M18.56 5.44l.94 2.06.94-2.06 2.06-.94-2.06-.94-.94-2.06-.94 2.06-2.06.94zm-11 1L8.5 8.5l.94-2.06 2.06-.94-2.06-.94L8.5 2.5l-.94 2.06-2.06.94zm10 10l.94 2.06.94-2.06 2.06-.94-2.06-.94-.94-2.06-.94 2.06-2.06.94z\"/><path d=\"M17.41 7.96l-1.37-1.37c-.4-.4-.92-.59-1.43-.59-.52 0-1.04.2-1.43.59L10.3 9.45l-7.72 7.72c-.78.78-.78 2.05 0 2.83L4 21.41c.39.39.9.59 1.41.59.51 0 1.02-.2 1.41-.59l7.78-7.78 2.81-2.81c.8-.78.8-2.07 0-2.86zM5.41 20L4 18.59l7.72-7.72 1.47 1.35L5.41 20z\"/>\n",
       "  </svg>\n",
       "      </button>\n",
       "      \n",
       "  <style>\n",
       "    .colab-df-container {\n",
       "      display:flex;\n",
       "      flex-wrap:wrap;\n",
       "      gap: 12px;\n",
       "    }\n",
       "\n",
       "    .colab-df-convert {\n",
       "      background-color: #E8F0FE;\n",
       "      border: none;\n",
       "      border-radius: 50%;\n",
       "      cursor: pointer;\n",
       "      display: none;\n",
       "      fill: #1967D2;\n",
       "      height: 32px;\n",
       "      padding: 0 0 0 0;\n",
       "      width: 32px;\n",
       "    }\n",
       "\n",
       "    .colab-df-convert:hover {\n",
       "      background-color: #E2EBFA;\n",
       "      box-shadow: 0px 1px 2px rgba(60, 64, 67, 0.3), 0px 1px 3px 1px rgba(60, 64, 67, 0.15);\n",
       "      fill: #174EA6;\n",
       "    }\n",
       "\n",
       "    [theme=dark] .colab-df-convert {\n",
       "      background-color: #3B4455;\n",
       "      fill: #D2E3FC;\n",
       "    }\n",
       "\n",
       "    [theme=dark] .colab-df-convert:hover {\n",
       "      background-color: #434B5C;\n",
       "      box-shadow: 0px 1px 3px 1px rgba(0, 0, 0, 0.15);\n",
       "      filter: drop-shadow(0px 1px 2px rgba(0, 0, 0, 0.3));\n",
       "      fill: #FFFFFF;\n",
       "    }\n",
       "  </style>\n",
       "\n",
       "      <script>\n",
       "        const buttonEl =\n",
       "          document.querySelector('#df-ffd7238d-49c1-4cf5-88b1-b3ffad3e199e button.colab-df-convert');\n",
       "        buttonEl.style.display =\n",
       "          google.colab.kernel.accessAllowed ? 'block' : 'none';\n",
       "\n",
       "        async function convertToInteractive(key) {\n",
       "          const element = document.querySelector('#df-ffd7238d-49c1-4cf5-88b1-b3ffad3e199e');\n",
       "          const dataTable =\n",
       "            await google.colab.kernel.invokeFunction('convertToInteractive',\n",
       "                                                     [key], {});\n",
       "          if (!dataTable) return;\n",
       "\n",
       "          const docLinkHtml = 'Like what you see? Visit the ' +\n",
       "            '<a target=\"_blank\" href=https://colab.research.google.com/notebooks/data_table.ipynb>data table notebook</a>'\n",
       "            + ' to learn more about interactive tables.';\n",
       "          element.innerHTML = '';\n",
       "          dataTable['output_type'] = 'display_data';\n",
       "          await google.colab.output.renderOutput(dataTable, element);\n",
       "          const docLink = document.createElement('div');\n",
       "          docLink.innerHTML = docLinkHtml;\n",
       "          element.appendChild(docLink);\n",
       "        }\n",
       "      </script>\n",
       "    </div>\n",
       "  </div>\n",
       "  "
      ],
      "text/plain": [
       "col_0                                                  count\n",
       "Daily Summary                                               \n",
       "Mostly cloudy throughout the day.                   0.206698\n",
       "Partly cloudy throughout the day.                   0.101805\n",
       "Partly cloudy until night.                          0.064168\n",
       "Partly cloudy starting in the morning.              0.053719\n",
       "Foggy in the morning.                               0.044055\n",
       "Foggy starting overnight continuing until morning.  0.037425\n",
       "Partly cloudy until evening.                        0.034370\n",
       "Mostly cloudy until night.                          0.032577\n",
       "Overcast throughout the day.                        0.030551\n",
       "Partly cloudy starting in the morning continuin...  0.029512\n",
       "Foggy until morning.                                0.028037\n",
       "Partly cloudy starting in the morning continuin...  0.022404\n",
       "Mostly cloudy starting in the morning.              0.016294\n",
       "Partly cloudy starting overnight.                   0.015021\n",
       "Foggy starting in the evening.                      0.015021\n",
       "Partly cloudy starting in the afternoon continu...  0.013737\n",
       "Foggy overnight.                                    0.013249\n",
       "Mostly cloudy starting overnight.                   0.013239\n",
       "Partly cloudy starting in the afternoon.            0.013239\n",
       "Mostly cloudy until evening.                        0.010948"
      ]
     },
     "execution_count": 199,
     "metadata": {},
     "output_type": "execute_result"
    }
   ],
   "source": [
    "daily_summary_freq =pd.crosstab(index=data['Daily Summary'],columns=\"count\") \n",
    "daily_summary_freqrel=daily_summary_freq/daily_summary_freq.sum()\n",
    "daily_summary_freqrel.sort_values('count', ascending=False).head(20)#Show the 20 most common categories"
   ]
  },
  {
   "cell_type": "code",
   "execution_count": 200,
   "metadata": {
    "id": "F5TYBaeerJKm"
   },
   "outputs": [],
   "source": [
    "def cloud_categorizer2(row):\n",
    "    row = str(row)\n",
    "    category = \"\"\n",
    "    if \"Mostly cloudy throughout the day.\" in row:\n",
    "        category = 5\n",
    "    elif \"Partly cloudy throughout the day.\" in row:\n",
    "        category = 4\n",
    "    elif \"Partly cloudy until night.\" in row:\n",
    "        category = 3\n",
    "    elif \"Partly cloudy starting in the morning.\" in row:\n",
    "        category = 2\n",
    "    elif \"Foggy in the morning.\" in row:\n",
    "        category = 1\n",
    "    elif \"Foggy starting overnight continuing until morning.\" in row:\n",
    "        category = 6\n",
    "    elif \"Partly cloudy until evening.\" in row:\n",
    "        category = 7\n",
    "    elif \"Mostly cloudy until night.\" in row:\n",
    "        category = 8\n",
    "    elif \"Overcast throughout the day.\" in row:\n",
    "        category = 9\n",
    "    elif \"Partly cloudy starting in the morning continuing until evening.\" in row:\n",
    "        category = 10\n",
    "    elif \"Foggy until morning.\" in row:\n",
    "        category = 11\n",
    "    elif \"Partly cloudy starting in the morning continuing until night.\" in row:\n",
    "        category = 12\n",
    "    elif \"Mostly cloudy starting in the morning.\" in row:\n",
    "        category = 13\n",
    "    elif \"Partly cloudy starting overnight.\" in row:\n",
    "        category = 14\n",
    "    elif \"Foggy starting in the evening.\" in row:\n",
    "        category = 15\n",
    "    elif \"Partly cloudy starting in the afternoon continuing until evening.\" in row:\n",
    "        category = 16\n",
    "    elif \"Foggy overnight.\" in row:\n",
    "        category = 17\n",
    "    elif \"Mostly cloudy starting overnight.\" in row:\n",
    "        category = 18\n",
    "    elif \"Partly cloudy starting in the afternoon.\" in row:\n",
    "        category = 19\n",
    "    elif \"Mostly cloudy until evening.\" in row:\n",
    "        category = 20\n",
    "    else:\n",
    "        category = 0\n",
    "    return category \n",
    "\n",
    "data[\"cloud (daily summary)\"] = data.apply (lambda row:cloud_categorizer2(row[\"Daily Summary\"]) , axis = 1)"
   ]
  },
  {
   "cell_type": "code",
   "execution_count": 201,
   "metadata": {
    "colab": {
     "base_uri": "https://localhost:8080/",
     "height": 389
    },
    "id": "mSrBXlgdpXAl",
    "outputId": "09e7bc55-77cc-42f3-9edb-e4799debf29b"
   },
   "outputs": [
    {
     "name": "stderr",
     "output_type": "stream",
     "text": [
      "/usr/local/lib/python3.7/dist-packages/seaborn/_decorators.py:43: FutureWarning: Pass the following variable as a keyword arg: x. From version 0.12, the only valid positional argument will be `data`, and passing other arguments without an explicit keyword will result in an error or misinterpretation.\n",
      "  FutureWarning\n"
     ]
    },
    {
     "data": {
      "image/png": "[encoded data removed]",
      "text/plain": [
       "<Figure size 360x360 with 1 Axes>"
      ]
     },
     "metadata": {
      "needs_background": "light"
     },
     "output_type": "display_data"
    }
   ],
   "source": [
    "ax=sns.countplot(data['cloud (daily summary)'])"
   ]
  },
  {
   "cell_type": "code",
   "execution_count": 202,
   "metadata": {
    "colab": {
     "base_uri": "https://localhost:8080/"
    },
    "id": "p-JSuT47S_jA",
    "outputId": "a8569b18-aa8d-48cd-e8a2-36f982ab7f36"
   },
   "outputs": [
    {
     "name": "stdout",
     "output_type": "stream",
     "text": [
      "rain    83556\n",
      "snow    10712\n",
      "Name: Precip Type, dtype: int64\n",
      "0    83556\n",
      "1    10712\n",
      "Name: Precip Type, dtype: int64\n"
     ]
    }
   ],
   "source": [
    "#label encoding precip type column\n",
    "print(data['Precip Type'].value_counts())\n",
    "data['Precip Type']=data['Precip Type'].replace(['rain','snow'],[0,1])\n",
    "print(data['Precip Type'].value_counts())"
   ]
  },
  {
   "cell_type": "code",
   "execution_count": 203,
   "metadata": {
    "colab": {
     "base_uri": "https://localhost:8080/"
    },
    "id": "dag42LLkS7DH",
    "outputId": "daa12ca3-46df-4235-8218-220fc086b007"
   },
   "outputs": [
    {
     "name": "stdout",
     "output_type": "stream",
     "text": [
      "<class 'pandas.core.frame.DataFrame'>\n",
      "RangeIndex: 94268 entries, 0 to 94267\n",
      "Data columns (total 17 columns):\n",
      " #   Column                    Non-Null Count  Dtype              \n",
      "---  ------                    --------------  -----              \n",
      " 0   Formatted Date            94268 non-null  datetime64[ns, UTC]\n",
      " 1   Summary                   94268 non-null  object             \n",
      " 2   Precip Type               94268 non-null  int64              \n",
      " 3   Temperature (C)           94268 non-null  float64            \n",
      " 4   Apparent Temperature (C)  94268 non-null  float64            \n",
      " 5   Humidity                  94268 non-null  float64            \n",
      " 6   Wind Speed (km/h)         94268 non-null  float64            \n",
      " 7   Wind Bearing (degrees)    94268 non-null  int64              \n",
      " 8   Visibility (km)           94268 non-null  float64            \n",
      " 9   Pressure (millibars)      94268 non-null  float64            \n",
      " 10  Daily Summary             94268 non-null  object             \n",
      " 11  year                      94268 non-null  int64              \n",
      " 12  month                     94268 non-null  int64              \n",
      " 13  day                       94268 non-null  int64              \n",
      " 14  hour                      94268 non-null  int64              \n",
      " 15  cloud (summary)           94268 non-null  int64              \n",
      " 16  cloud (daily summary)     94268 non-null  int64              \n",
      "dtypes: datetime64[ns, UTC](1), float64(6), int64(8), object(2)\n",
      "memory usage: 12.2+ MB\n"
     ]
    }
   ],
   "source": [
    "data.info()"
   ]
  },
  {
   "cell_type": "code",
   "execution_count": 204,
   "metadata": {
    "colab": {
     "base_uri": "https://localhost:8080/"
    },
    "id": "r85LkyawUJHQ",
    "outputId": "7152f533-d883-4ff4-99b3-d373dcf75fe4"
   },
   "outputs": [
    {
     "name": "stdout",
     "output_type": "stream",
     "text": [
      "<class 'pandas.core.frame.DataFrame'>\n",
      "RangeIndex: 94268 entries, 0 to 94267\n",
      "Data columns (total 14 columns):\n",
      " #   Column                    Non-Null Count  Dtype  \n",
      "---  ------                    --------------  -----  \n",
      " 0   Precip Type               94268 non-null  int64  \n",
      " 1   Temperature (C)           94268 non-null  float64\n",
      " 2   Apparent Temperature (C)  94268 non-null  float64\n",
      " 3   Humidity                  94268 non-null  float64\n",
      " 4   Wind Speed (km/h)         94268 non-null  float64\n",
      " 5   Wind Bearing (degrees)    94268 non-null  int64  \n",
      " 6   Visibility (km)           94268 non-null  float64\n",
      " 7   Pressure (millibars)      94268 non-null  float64\n",
      " 8   year                      94268 non-null  int64  \n",
      " 9   month                     94268 non-null  int64  \n",
      " 10  day                       94268 non-null  int64  \n",
      " 11  hour                      94268 non-null  int64  \n",
      " 12  cloud (summary)           94268 non-null  int64  \n",
      " 13  cloud (daily summary)     94268 non-null  int64  \n",
      "dtypes: float64(6), int64(8)\n",
      "memory usage: 10.1 MB\n"
     ]
    }
   ],
   "source": [
    "data = data.drop('Formatted Date' , axis = 1)\n",
    "data = data.drop('Summary' , axis = 1)\n",
    "data = data.drop('Daily Summary' , axis = 1)\n",
    "data.info()"
   ]
  },
  {
   "cell_type": "markdown",
   "metadata": {
    "id": "j57wu4vVGwCz"
   },
   "source": [
    "**DATA AUGMENTATION**\n",
    "\n",
    "---\n",
    "\n"
   ]
  },
  {
   "cell_type": "code",
   "execution_count": 205,
   "metadata": {
    "id": "LUaH-2iTUW-h"
   },
   "outputs": [],
   "source": [
    "from sklearn.tree import DecisionTreeClassifier\n",
    "from sklearn.model_selection import train_test_split\n",
    "from sklearn.metrics import accuracy_score\n",
    "from sklearn.metrics import confusion_matrix"
   ]
  },
  {
   "cell_type": "code",
   "execution_count": 209,
   "metadata": {
    "colab": {
     "base_uri": "https://localhost:8080/"
    },
    "id": "ZyJF1AerTuaw",
    "outputId": "a163ec87-b480-47af-a56e-d23e7b6a3ba1"
   },
   "outputs": [
    {
     "name": "stdout",
     "output_type": "stream",
     "text": [
      "accuracy score 0.594957745482833\n"
     ]
    }
   ],
   "source": [
    "#                                          decision tree \n",
    "\n",
    "X = data.drop('cloud (daily summary)', axis=1)\n",
    "y = data['cloud (daily summary)']\n",
    "\n",
    "dt1 = DecisionTreeClassifier()\n",
    "X_train, X_test, y_train, y_test = train_test_split(X, y, test_size=0.3, random_state=128)\n",
    "\n",
    "dt1.fit(X_train , y_train)\n",
    "y_pred = dt1.predict(X_test)\n",
    "print(\"accuracy score\",accuracy_score(y_test,y_pred))\n",
    "\n"
   ]
  },
  {
   "cell_type": "code",
   "execution_count": 210,
   "metadata": {
    "colab": {
     "base_uri": "https://localhost:8080/"
    },
    "id": "bm5Nv1PEZ3TV",
    "outputId": "baa6b9b4-3b96-411e-c43c-e412e638f1b8"
   },
   "outputs": [
    {
     "name": "stdout",
     "output_type": "stream",
     "text": [
      "<class 'pandas.core.frame.DataFrame'>\n",
      "Int64Index: 28281 entries, 89630 to 40315\n",
      "Data columns (total 13 columns):\n",
      " #   Column                    Non-Null Count  Dtype  \n",
      "---  ------                    --------------  -----  \n",
      " 0   Precip Type               28281 non-null  int64  \n",
      " 1   Temperature (C)           28281 non-null  float64\n",
      " 2   Apparent Temperature (C)  28281 non-null  float64\n",
      " 3   Humidity                  28281 non-null  float64\n",
      " 4   Wind Speed (km/h)         28281 non-null  float64\n",
      " 5   Wind Bearing (degrees)    28281 non-null  int64  \n",
      " 6   Visibility (km)           28281 non-null  float64\n",
      " 7   Pressure (millibars)      28281 non-null  float64\n",
      " 8   year                      28281 non-null  int64  \n",
      " 9   month                     28281 non-null  int64  \n",
      " 10  day                       28281 non-null  int64  \n",
      " 11  hour                      28281 non-null  int64  \n",
      " 12  cloud (summary)           28281 non-null  int64  \n",
      "dtypes: float64(6), int64(7)\n",
      "memory usage: 3.0 MB\n"
     ]
    }
   ],
   "source": [
    "X_test.info()"
   ]
  },
  {
   "cell_type": "code",
   "execution_count": 211,
   "metadata": {
    "colab": {
     "base_uri": "https://localhost:8080/"
    },
    "id": "sRjVOzYdZ-uO",
    "outputId": "6748ea2a-42e8-4769-896c-bf83ebfba68b"
   },
   "outputs": [
    {
     "name": "stdout",
     "output_type": "stream",
     "text": [
      "<class 'pandas.core.frame.DataFrame'>\n",
      "RangeIndex: 2185 entries, 0 to 2184\n",
      "Data columns (total 12 columns):\n",
      " #   Column                    Non-Null Count  Dtype  \n",
      "---  ------                    --------------  -----  \n",
      " 0   Formatted Date            2185 non-null   object \n",
      " 1   Summary                   2185 non-null   object \n",
      " 2   Precip Type               1811 non-null   object \n",
      " 3   Temperature (C)           2185 non-null   float64\n",
      " 4   Apparent Temperature (C)  2185 non-null   float64\n",
      " 5   Humidity                  2185 non-null   float64\n",
      " 6   Wind Speed (km/h)         2185 non-null   float64\n",
      " 7   Wind Bearing (degrees)    2185 non-null   int64  \n",
      " 8   Visibility (km)           2185 non-null   float64\n",
      " 9   Cloud Cover               2185 non-null   int64  \n",
      " 10  Pressure (millibars)      2185 non-null   float64\n",
      " 11  Daily Summary             2185 non-null   object \n",
      "dtypes: float64(6), int64(2), object(4)\n",
      "memory usage: 205.0+ KB\n"
     ]
    }
   ],
   "source": [
    "test_dataset = pd.read_csv('test.csv')\n",
    "test_dataset.info()"
   ]
  },
  {
   "cell_type": "markdown",
   "metadata": {
    "id": "wELUdnbsaYdX"
   },
   "source": [
    "**CLEANING THE TEST_DATA_SET**\n",
    "\n",
    "---\n",
    "\n"
   ]
  },
  {
   "cell_type": "code",
   "execution_count": 212,
   "metadata": {
    "colab": {
     "base_uri": "https://localhost:8080/"
    },
    "id": "DJrZhbNWafR4",
    "outputId": "e2d9556a-728f-48ab-a742-7fd2dbe65b73"
   },
   "outputs": [
    {
     "data": {
      "text/plain": [
       "Formatted Date                0\n",
       "Summary                       0\n",
       "Precip Type                 374\n",
       "Temperature (C)               0\n",
       "Apparent Temperature (C)      0\n",
       "Humidity                      0\n",
       "Wind Speed (km/h)             0\n",
       "Wind Bearing (degrees)        0\n",
       "Visibility (km)               0\n",
       "Cloud Cover                   0\n",
       "Pressure (millibars)          0\n",
       "Daily Summary                 0\n",
       "dtype: int64"
      ]
     },
     "execution_count": 212,
     "metadata": {},
     "output_type": "execute_result"
    }
   ],
   "source": [
    "test_dataset.isnull().sum()"
   ]
  },
  {
   "cell_type": "code",
   "execution_count": 213,
   "metadata": {
    "id": "3snqEUuQUXs3"
   },
   "outputs": [],
   "source": [
    "test_dataset = test_dataset.dropna(axis=0)"
   ]
  },
  {
   "cell_type": "code",
   "execution_count": 214,
   "metadata": {
    "colab": {
     "base_uri": "https://localhost:8080/"
    },
    "id": "Sgb3chnLdjgg",
    "outputId": "e5dc1ec6-2891-4c1b-dff1-16d5f47291a3"
   },
   "outputs": [
    {
     "name": "stdout",
     "output_type": "stream",
     "text": [
      "<class 'pandas.core.frame.DataFrame'>\n",
      "Int64Index: 1811 entries, 24 to 2184\n",
      "Data columns (total 12 columns):\n",
      " #   Column                    Non-Null Count  Dtype  \n",
      "---  ------                    --------------  -----  \n",
      " 0   Formatted Date            1811 non-null   object \n",
      " 1   Summary                   1811 non-null   object \n",
      " 2   Precip Type               1811 non-null   object \n",
      " 3   Temperature (C)           1811 non-null   float64\n",
      " 4   Apparent Temperature (C)  1811 non-null   float64\n",
      " 5   Humidity                  1811 non-null   float64\n",
      " 6   Wind Speed (km/h)         1811 non-null   float64\n",
      " 7   Wind Bearing (degrees)    1811 non-null   int64  \n",
      " 8   Visibility (km)           1811 non-null   float64\n",
      " 9   Cloud Cover               1811 non-null   int64  \n",
      " 10  Pressure (millibars)      1811 non-null   float64\n",
      " 11  Daily Summary             1811 non-null   object \n",
      "dtypes: float64(6), int64(2), object(4)\n",
      "memory usage: 183.9+ KB\n"
     ]
    }
   ],
   "source": [
    "test_dataset.info()"
   ]
  },
  {
   "cell_type": "code",
   "execution_count": 215,
   "metadata": {
    "colab": {
     "base_uri": "https://localhost:8080/"
    },
    "id": "nG3gqLTDa4HY",
    "outputId": "80a80111-368a-4fba-8af0-67d662fc5892"
   },
   "outputs": [
    {
     "name": "stdout",
     "output_type": "stream",
     "text": [
      "<class 'pandas.core.frame.DataFrame'>\n",
      "Int64Index: 1811 entries, 24 to 2184\n",
      "Data columns (total 16 columns):\n",
      " #   Column                    Non-Null Count  Dtype              \n",
      "---  ------                    --------------  -----              \n",
      " 0   Formatted Date            1811 non-null   datetime64[ns, UTC]\n",
      " 1   Summary                   1811 non-null   object             \n",
      " 2   Precip Type               1811 non-null   object             \n",
      " 3   Temperature (C)           1811 non-null   float64            \n",
      " 4   Apparent Temperature (C)  1811 non-null   float64            \n",
      " 5   Humidity                  1811 non-null   float64            \n",
      " 6   Wind Speed (km/h)         1811 non-null   float64            \n",
      " 7   Wind Bearing (degrees)    1811 non-null   int64              \n",
      " 8   Visibility (km)           1811 non-null   float64            \n",
      " 9   Cloud Cover               1811 non-null   int64              \n",
      " 10  Pressure (millibars)      1811 non-null   float64            \n",
      " 11  Daily Summary             1811 non-null   object             \n",
      " 12  year                      1811 non-null   int64              \n",
      " 13  month                     1811 non-null   int64              \n",
      " 14  day                       1811 non-null   int64              \n",
      " 15  hour                      1811 non-null   int64              \n",
      "dtypes: datetime64[ns, UTC](1), float64(6), int64(6), object(3)\n",
      "memory usage: 240.5+ KB\n"
     ]
    }
   ],
   "source": [
    "#'Formatted Date' transformation:\n",
    "test_dataset['Formatted Date']=pd.to_datetime(test_dataset['Formatted Date'],utc=True)\n",
    "test_dataset['year'] = test_dataset['Formatted Date'].dt.year\n",
    "test_dataset['month'] = test_dataset['Formatted Date'].dt.month\n",
    "test_dataset['day'] = test_dataset['Formatted Date'].dt.day\n",
    "test_dataset['hour'] = test_dataset['Formatted Date'].dt.hour\n",
    "\n",
    "test_dataset.info()"
   ]
  },
  {
   "cell_type": "code",
   "execution_count": 216,
   "metadata": {
    "id": "BhhdXiJRwUN9"
   },
   "outputs": [],
   "source": [
    "test_dataset[\"cloud (summary)\"] = test_dataset.apply (lambda row:cloud_categorizer(row[\"Summary\"]) , axis = 1)"
   ]
  },
  {
   "cell_type": "code",
   "execution_count": 217,
   "metadata": {
    "colab": {
     "base_uri": "https://localhost:8080/",
     "height": 476
    },
    "id": "jJSGmShDbrNE",
    "outputId": "d02579f8-b789-4607-9437-3c1ae9263406"
   },
   "outputs": [
    {
     "name": "stderr",
     "output_type": "stream",
     "text": [
      "/usr/local/lib/python3.7/dist-packages/seaborn/_decorators.py:43: FutureWarning: Pass the following variable as a keyword arg: x. From version 0.12, the only valid positional argument will be `data`, and passing other arguments without an explicit keyword will result in an error or misinterpretation.\n",
      "  FutureWarning\n"
     ]
    },
    {
     "data": {
      "text/plain": [
       "[Text(0, 0, '1=Clear'),\n",
       " Text(0, 0, '2=Partly Cloudy'),\n",
       " Text(0, 0, '3=Mostly Cloudy'),\n",
       " Text(0, 0, '4=Overcast'),\n",
       " Text(0, 0, '5=Foggy')]"
      ]
     },
     "execution_count": 217,
     "metadata": {},
     "output_type": "execute_result"
    },
    {
     "data": {
      "image/png": "[encoded data removed]",
      "text/plain": [
       "<Figure size 360x360 with 1 Axes>"
      ]
     },
     "metadata": {
      "needs_background": "light"
     },
     "output_type": "display_data"
    }
   ],
   "source": [
    "ax=sns.countplot(test_dataset['cloud (summary)'])\n",
    "ax.set_xticklabels(('1=Clear', '2=Partly Cloudy', '3=Mostly Cloudy', '4=Overcast', '5=Foggy'))"
   ]
  },
  {
   "cell_type": "code",
   "execution_count": 218,
   "metadata": {
    "colab": {
     "base_uri": "https://localhost:8080/"
    },
    "id": "_9mBGdeicDKO",
    "outputId": "5bbef9be-d9e6-45d3-f057-f7eef303f74d"
   },
   "outputs": [
    {
     "name": "stdout",
     "output_type": "stream",
     "text": [
      "rain    1811\n",
      "Name: Precip Type, dtype: int64\n",
      "0    1811\n",
      "Name: Precip Type, dtype: int64\n"
     ]
    }
   ],
   "source": [
    "#label encoding precip type column\n",
    "print(test_dataset['Precip Type'].value_counts())\n",
    "test_dataset['Precip Type']=test_dataset['Precip Type'].replace(['rain','snow'],[0,1])\n",
    "print(test_dataset['Precip Type'].value_counts())"
   ]
  },
  {
   "cell_type": "code",
   "execution_count": 219,
   "metadata": {
    "id": "PWkp0gI0cShN"
   },
   "outputs": [],
   "source": [
    "test_dataset[\"cloud (daily summary)\"] = test_dataset.apply (lambda row:cloud_categorizer2(row[\"Daily Summary\"]) , axis = 1)"
   ]
  },
  {
   "cell_type": "code",
   "execution_count": 220,
   "metadata": {
    "colab": {
     "base_uri": "https://localhost:8080/",
     "height": 389
    },
    "id": "S9cura8rxQaO",
    "outputId": "3856fbd9-7423-49e3-e7e5-c93de71a78a9"
   },
   "outputs": [
    {
     "name": "stderr",
     "output_type": "stream",
     "text": [
      "/usr/local/lib/python3.7/dist-packages/seaborn/_decorators.py:43: FutureWarning: Pass the following variable as a keyword arg: x. From version 0.12, the only valid positional argument will be `data`, and passing other arguments without an explicit keyword will result in an error or misinterpretation.\n",
      "  FutureWarning\n"
     ]
    },
    {
     "data": {
      "image/png": "[encoded data removed]",
      "text/plain": [
       "<Figure size 360x360 with 1 Axes>"
      ]
     },
     "metadata": {
      "needs_background": "light"
     },
     "output_type": "display_data"
    }
   ],
   "source": [
    "ax=sns.countplot(test_dataset['cloud (daily summary)'])"
   ]
  },
  {
   "cell_type": "code",
   "execution_count": 222,
   "metadata": {
    "id": "Jl_-wmPUyOQA"
   },
   "outputs": [],
   "source": [
    "test_dataset=test_dataset.drop('Cloud Cover',axis=1)"
   ]
  },
  {
   "cell_type": "code",
   "execution_count": 221,
   "metadata": {
    "colab": {
     "base_uri": "https://localhost:8080/"
    },
    "id": "FdlAeyBucncC",
    "outputId": "1189770f-0b37-44ac-ebb4-862a28dbf9b8"
   },
   "outputs": [
    {
     "name": "stdout",
     "output_type": "stream",
     "text": [
      "<class 'pandas.core.frame.DataFrame'>\n",
      "Int64Index: 1811 entries, 24 to 2184\n",
      "Data columns (total 15 columns):\n",
      " #   Column                    Non-Null Count  Dtype  \n",
      "---  ------                    --------------  -----  \n",
      " 0   Precip Type               1811 non-null   int64  \n",
      " 1   Temperature (C)           1811 non-null   float64\n",
      " 2   Apparent Temperature (C)  1811 non-null   float64\n",
      " 3   Humidity                  1811 non-null   float64\n",
      " 4   Wind Speed (km/h)         1811 non-null   float64\n",
      " 5   Wind Bearing (degrees)    1811 non-null   int64  \n",
      " 6   Visibility (km)           1811 non-null   float64\n",
      " 7   Cloud Cover               1811 non-null   int64  \n",
      " 8   Pressure (millibars)      1811 non-null   float64\n",
      " 9   year                      1811 non-null   int64  \n",
      " 10  month                     1811 non-null   int64  \n",
      " 11  day                       1811 non-null   int64  \n",
      " 12  hour                      1811 non-null   int64  \n",
      " 13  cloud (summary)           1811 non-null   int64  \n",
      " 14  cloud (daily summary)     1811 non-null   int64  \n",
      "dtypes: float64(6), int64(9)\n",
      "memory usage: 290.9 KB\n"
     ]
    }
   ],
   "source": [
    "test_dataset = test_dataset.drop('Formatted Date' , axis = 1)\n",
    "test_dataset = test_dataset.drop('Summary' , axis = 1)\n",
    "test_dataset = test_dataset.drop('Daily Summary' , axis = 1)\n",
    "test_dataset.info()"
   ]
  },
  {
   "cell_type": "code",
   "execution_count": 223,
   "metadata": {
    "id": "wFiqp9DhenNi"
   },
   "outputs": [],
   "source": [
    "X_test_dataset = test_dataset.drop('cloud (daily summary)', axis=1)\n",
    "y_test_dataset = test_dataset['cloud (daily summary)']"
   ]
  },
  {
   "cell_type": "code",
   "execution_count": 239,
   "metadata": {
    "colab": {
     "base_uri": "https://localhost:8080/"
    },
    "id": "qKLtfVn6PF4r",
    "outputId": "ecc2529c-7a16-4434-9926-801fcf8b16e3"
   },
   "outputs": [
    {
     "name": "stdout",
     "output_type": "stream",
     "text": [
      "<class 'pandas.core.frame.DataFrame'>\n",
      "Int64Index: 1811 entries, 24 to 2184\n",
      "Data columns (total 13 columns):\n",
      " #   Column                    Non-Null Count  Dtype  \n",
      "---  ------                    --------------  -----  \n",
      " 0   Precip Type               1811 non-null   int64  \n",
      " 1   Temperature (C)           1811 non-null   float64\n",
      " 2   Apparent Temperature (C)  1811 non-null   float64\n",
      " 3   Humidity                  1811 non-null   float64\n",
      " 4   Wind Speed (km/h)         1811 non-null   float64\n",
      " 5   Wind Bearing (degrees)    1811 non-null   int64  \n",
      " 6   Visibility (km)           1811 non-null   float64\n",
      " 7   Pressure (millibars)      1811 non-null   float64\n",
      " 8   year                      1811 non-null   int64  \n",
      " 9   month                     1811 non-null   int64  \n",
      " 10  day                       1811 non-null   int64  \n",
      " 11  hour                      1811 non-null   int64  \n",
      " 12  cloud (summary)           1811 non-null   int64  \n",
      "dtypes: float64(6), int64(7)\n",
      "memory usage: 262.6 KB\n"
     ]
    }
   ],
   "source": [
    "X_test_dataset.info()"
   ]
  },
  {
   "cell_type": "markdown",
   "metadata": {
    "id": "ftVINsznHxHf"
   },
   "source": [
    "**ACCURACY PREDICTION ON GIVEN TEST DATA**\n",
    "\n",
    "---\n",
    "\n"
   ]
  },
  {
   "cell_type": "code",
   "execution_count": 224,
   "metadata": {
    "colab": {
     "base_uri": "https://localhost:8080/"
    },
    "id": "1isWHC2oetP0",
    "outputId": "8eede2eb-5a35-4ab5-8c1e-f59797c151f0"
   },
   "outputs": [
    {
     "name": "stdout",
     "output_type": "stream",
     "text": [
      "accuracy score 0.18277194919933737\n"
     ]
    }
   ],
   "source": [
    "y_pred_test_dataset = dt1.predict(X_test_dataset)\n",
    "print(\"accuracy score\",accuracy_score(y_test_dataset,y_pred_test_dataset))"
   ]
  },
  {
   "cell_type": "code",
   "execution_count": 225,
   "metadata": {
    "colab": {
     "base_uri": "https://localhost:8080/"
    },
    "id": "OGTzHWNQfoZk",
    "outputId": "09c2cfe1-d5d8-498e-bd76-fcac2014bb0b"
   },
   "outputs": [
    {
     "name": "stdout",
     "output_type": "stream",
     "text": [
      "[ 5  5 18 ...  2 13  2]\n"
     ]
    }
   ],
   "source": [
    "print(y_pred_test_dataset)"
   ]
  },
  {
   "cell_type": "markdown",
   "metadata": {
    "id": "E1MA0soMIDRY"
   },
   "source": [
    "EVALUATE SAMPLES"
   ]
  },
  {
   "cell_type": "code",
   "execution_count": 228,
   "metadata": {
    "colab": {
     "base_uri": "https://localhost:8080/"
    },
    "id": "Ug2Stt74IKef",
    "outputId": "a895e626-2157-4d09-9a75-90578745046b"
   },
   "outputs": [
    {
     "name": "stdout",
     "output_type": "stream",
     "text": [
      "<class 'pandas.core.frame.DataFrame'>\n",
      "RangeIndex: 719 entries, 0 to 718\n",
      "Data columns (total 11 columns):\n",
      " #   Column                    Non-Null Count  Dtype  \n",
      "---  ------                    --------------  -----  \n",
      " 0   Formatted Date            719 non-null    object \n",
      " 1   Summary                   719 non-null    object \n",
      " 2   Precip Type               719 non-null    object \n",
      " 3   Temperature (C)           719 non-null    float64\n",
      " 4   Apparent Temperature (C)  719 non-null    float64\n",
      " 5   Humidity                  719 non-null    float64\n",
      " 6   Wind Speed (km/h)         719 non-null    float64\n",
      " 7   Wind Bearing (degrees)    719 non-null    int64  \n",
      " 8   Visibility (km)           719 non-null    float64\n",
      " 9   Cloud Cover               719 non-null    int64  \n",
      " 10  Pressure (millibars)      719 non-null    float64\n",
      "dtypes: float64(6), int64(2), object(3)\n",
      "memory usage: 61.9+ KB\n"
     ]
    }
   ],
   "source": [
    "evaluate = pd.read_csv('evaluate.csv')\n",
    "evaluate.info()"
   ]
  },
  {
   "cell_type": "code",
   "execution_count": 229,
   "metadata": {
    "colab": {
     "base_uri": "https://localhost:8080/"
    },
    "id": "O2UvSe1sIW7A",
    "outputId": "14c141a9-6d42-491a-ed47-cfa9ad46dda4"
   },
   "outputs": [
    {
     "name": "stdout",
     "output_type": "stream",
     "text": [
      "<class 'pandas.core.frame.DataFrame'>\n",
      "RangeIndex: 719 entries, 0 to 718\n",
      "Data columns (total 15 columns):\n",
      " #   Column                    Non-Null Count  Dtype              \n",
      "---  ------                    --------------  -----              \n",
      " 0   Formatted Date            719 non-null    datetime64[ns, UTC]\n",
      " 1   Summary                   719 non-null    object             \n",
      " 2   Precip Type               719 non-null    object             \n",
      " 3   Temperature (C)           719 non-null    float64            \n",
      " 4   Apparent Temperature (C)  719 non-null    float64            \n",
      " 5   Humidity                  719 non-null    float64            \n",
      " 6   Wind Speed (km/h)         719 non-null    float64            \n",
      " 7   Wind Bearing (degrees)    719 non-null    int64              \n",
      " 8   Visibility (km)           719 non-null    float64            \n",
      " 9   Cloud Cover               719 non-null    int64              \n",
      " 10  Pressure (millibars)      719 non-null    float64            \n",
      " 11  year                      719 non-null    int64              \n",
      " 12  month                     719 non-null    int64              \n",
      " 13  day                       719 non-null    int64              \n",
      " 14  hour                      719 non-null    int64              \n",
      "dtypes: datetime64[ns, UTC](1), float64(6), int64(6), object(2)\n",
      "memory usage: 84.4+ KB\n"
     ]
    }
   ],
   "source": [
    "#'Formatted Date' transformation:\n",
    "evaluate['Formatted Date']=pd.to_datetime(evaluate['Formatted Date'],utc=True)\n",
    "evaluate['year'] = evaluate['Formatted Date'].dt.year\n",
    "evaluate['month'] = evaluate['Formatted Date'].dt.month\n",
    "evaluate['day'] = evaluate['Formatted Date'].dt.day\n",
    "evaluate['hour'] = evaluate['Formatted Date'].dt.hour\n",
    "\n",
    "evaluate.info()"
   ]
  },
  {
   "cell_type": "code",
   "execution_count": 230,
   "metadata": {
    "colab": {
     "base_uri": "https://localhost:8080/",
     "height": 476
    },
    "id": "GxpKuZcvMHG4",
    "outputId": "bbde484e-c1b7-476d-c128-c3c53cd6eb6d"
   },
   "outputs": [
    {
     "name": "stderr",
     "output_type": "stream",
     "text": [
      "/usr/local/lib/python3.7/dist-packages/seaborn/_decorators.py:43: FutureWarning: Pass the following variable as a keyword arg: x. From version 0.12, the only valid positional argument will be `data`, and passing other arguments without an explicit keyword will result in an error or misinterpretation.\n",
      "  FutureWarning\n"
     ]
    },
    {
     "data": {
      "text/plain": [
       "[Text(0, 0, '1=Clear'),\n",
       " Text(0, 0, '2=Partly Cloudy'),\n",
       " Text(0, 0, '3=Mostly Cloudy'),\n",
       " Text(0, 0, '4=Overcast'),\n",
       " Text(0, 0, '5=Foggy')]"
      ]
     },
     "execution_count": 230,
     "metadata": {},
     "output_type": "execute_result"
    },
    {
     "data": {
      "image/png": "[encoded data removed]",
      "text/plain": [
       "<Figure size 360x360 with 1 Axes>"
      ]
     },
     "metadata": {
      "needs_background": "light"
     },
     "output_type": "display_data"
    }
   ],
   "source": [
    "evaluate[\"cloud (summary)\"] = evaluate.apply (lambda row:cloud_categorizer(row[\"Summary\"]) , axis = 1)\n",
    "ax=sns.countplot(evaluate['cloud (summary)'])\n",
    "ax.set_xticklabels(('1=Clear', '2=Partly Cloudy', '3=Mostly Cloudy', '4=Overcast', '5=Foggy'))"
   ]
  },
  {
   "cell_type": "code",
   "execution_count": 231,
   "metadata": {
    "colab": {
     "base_uri": "https://localhost:8080/"
    },
    "id": "8-zknoQrMjEB",
    "outputId": "730fe149-a05b-4e09-c7ed-14435327868e"
   },
   "outputs": [
    {
     "name": "stdout",
     "output_type": "stream",
     "text": [
      "rain    719\n",
      "Name: Precip Type, dtype: int64\n",
      "0    719\n",
      "Name: Precip Type, dtype: int64\n"
     ]
    }
   ],
   "source": [
    "#label encoding precip type column\n",
    "print(evaluate['Precip Type'].value_counts())\n",
    "evaluate['Precip Type']=evaluate['Precip Type'].replace(['rain','snow'],[0,1])\n",
    "print(evaluate['Precip Type'].value_counts())"
   ]
  },
  {
   "cell_type": "code",
   "execution_count": 233,
   "metadata": {
    "colab": {
     "base_uri": "https://localhost:8080/"
    },
    "id": "uAj4jpNrNfMy",
    "outputId": "25bfb11a-6b48-4f66-c501-a1fb6883a617"
   },
   "outputs": [
    {
     "name": "stdout",
     "output_type": "stream",
     "text": [
      "<class 'pandas.core.frame.DataFrame'>\n",
      "RangeIndex: 719 entries, 0 to 718\n",
      "Data columns (total 16 columns):\n",
      " #   Column                    Non-Null Count  Dtype              \n",
      "---  ------                    --------------  -----              \n",
      " 0   Formatted Date            719 non-null    datetime64[ns, UTC]\n",
      " 1   Summary                   719 non-null    object             \n",
      " 2   Precip Type               719 non-null    int64              \n",
      " 3   Temperature (C)           719 non-null    float64            \n",
      " 4   Apparent Temperature (C)  719 non-null    float64            \n",
      " 5   Humidity                  719 non-null    float64            \n",
      " 6   Wind Speed (km/h)         719 non-null    float64            \n",
      " 7   Wind Bearing (degrees)    719 non-null    int64              \n",
      " 8   Visibility (km)           719 non-null    float64            \n",
      " 9   Cloud Cover               719 non-null    int64              \n",
      " 10  Pressure (millibars)      719 non-null    float64            \n",
      " 11  year                      719 non-null    int64              \n",
      " 12  month                     719 non-null    int64              \n",
      " 13  day                       719 non-null    int64              \n",
      " 14  hour                      719 non-null    int64              \n",
      " 15  cloud (summary)           719 non-null    int64              \n",
      "dtypes: datetime64[ns, UTC](1), float64(6), int64(8), object(1)\n",
      "memory usage: 90.0+ KB\n"
     ]
    }
   ],
   "source": [
    "evaluate.info()"
   ]
  },
  {
   "cell_type": "code",
   "execution_count": 234,
   "metadata": {
    "colab": {
     "base_uri": "https://localhost:8080/"
    },
    "id": "KFWIq3sbNiY2",
    "outputId": "7981442d-0e87-4737-a027-5ef054380b73"
   },
   "outputs": [
    {
     "name": "stdout",
     "output_type": "stream",
     "text": [
      "<class 'pandas.core.frame.DataFrame'>\n",
      "RangeIndex: 719 entries, 0 to 718\n",
      "Data columns (total 14 columns):\n",
      " #   Column                    Non-Null Count  Dtype  \n",
      "---  ------                    --------------  -----  \n",
      " 0   Precip Type               719 non-null    int64  \n",
      " 1   Temperature (C)           719 non-null    float64\n",
      " 2   Apparent Temperature (C)  719 non-null    float64\n",
      " 3   Humidity                  719 non-null    float64\n",
      " 4   Wind Speed (km/h)         719 non-null    float64\n",
      " 5   Wind Bearing (degrees)    719 non-null    int64  \n",
      " 6   Visibility (km)           719 non-null    float64\n",
      " 7   Cloud Cover               719 non-null    int64  \n",
      " 8   Pressure (millibars)      719 non-null    float64\n",
      " 9   year                      719 non-null    int64  \n",
      " 10  month                     719 non-null    int64  \n",
      " 11  day                       719 non-null    int64  \n",
      " 12  hour                      719 non-null    int64  \n",
      " 13  cloud (summary)           719 non-null    int64  \n",
      "dtypes: float64(6), int64(8)\n",
      "memory usage: 78.8 KB\n"
     ]
    }
   ],
   "source": [
    "evaluate = evaluate.drop('Formatted Date' , axis = 1)\n",
    "evaluate = evaluate.drop('Summary' , axis = 1)\n",
    "evaluate.info()"
   ]
  },
  {
   "cell_type": "code",
   "execution_count": 240,
   "metadata": {
    "id": "fTe98yw-PZB-"
   },
   "outputs": [],
   "source": [
    "evaluate = evaluate.drop('Cloud Cover' , axis = 1)"
   ]
  },
  {
   "cell_type": "code",
   "execution_count": 241,
   "metadata": {
    "id": "xlj_R_k2N53s"
   },
   "outputs": [],
   "source": [
    "X_evaluate = evaluate"
   ]
  },
  {
   "cell_type": "code",
   "execution_count": 243,
   "metadata": {
    "colab": {
     "base_uri": "https://localhost:8080/"
    },
    "id": "NvFwq5jfOHW2",
    "outputId": "f0fe0edd-8b0d-4258-f614-98bb6ae682e3"
   },
   "outputs": [
    {
     "name": "stdout",
     "output_type": "stream",
     "text": [
      "719\n"
     ]
    }
   ],
   "source": [
    "y_pred_evaluate = dt1.predict(X_evaluate)\n",
    "print(len(y_pred_evaluate))"
   ]
  },
  {
   "cell_type": "code",
   "execution_count": 245,
   "metadata": {
    "colab": {
     "base_uri": "https://localhost:8080/"
    },
    "id": "BlHAurtRWJNX",
    "outputId": "9fbdbc1e-22b8-4eaf-9b21-d1abe28318df"
   },
   "outputs": [
    {
     "name": "stdout",
     "output_type": "stream",
     "text": [
      "<class 'pandas.core.frame.DataFrame'>\n",
      "RangeIndex: 719 entries, 0 to 718\n",
      "Data columns (total 1 columns):\n",
      " #   Column  Non-Null Count  Dtype\n",
      "---  ------  --------------  -----\n",
      " 0   0       719 non-null    int64\n",
      "dtypes: int64(1)\n",
      "memory usage: 5.7 KB\n"
     ]
    }
   ],
   "source": [
    "evaluate_ypred = pd.DataFrame(y_pred_evaluate)\n",
    "evaluate_ypred.info()\n",
    "evaluate_ypred.to_csv('evaluate_ypred.csv')"
   ]
  },
  {
   "cell_type": "code",
   "execution_count": null,
   "metadata": {
    "id": "Kwb1aIjCQM3O"
   },
   "outputs": [],
   "source": []
  }
 ],
 "metadata": {
  "colab": {
   "collapsed_sections": [],
   "name": "DS_EICT1142.ipynb",
   "provenance": []
  },
  "kernelspec": {
   "display_name": "Python 3 (ipykernel)",
   "language": "python",
   "name": "python3"
  },
  "language_info": {
   "codemirror_mode": {
    "name": "ipython",
    "version": 3
   },
   "file_extension": ".py",
   "mimetype": "text/x-python",
   "name": "python",
   "nbconvert_exporter": "python",
   "pygments_lexer": "ipython3",
   "version": "3.9.7"
  }
 },
 "nbformat": 4,
 "nbformat_minor": 1
}
